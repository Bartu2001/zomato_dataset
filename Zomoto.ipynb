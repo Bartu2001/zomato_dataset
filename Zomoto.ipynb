{
 "cells": [
  {
   "cell_type": "code",
   "execution_count": 16,
   "id": "43cda66e",
   "metadata": {},
   "outputs": [],
   "source": [
    "import pandas as pd\n",
    "import seaborn as sns\n",
    "import matplotlib.pyplot as plt"
   ]
  },
  {
   "cell_type": "markdown",
   "id": "74602481",
   "metadata": {},
   "source": [
    "First we install the necessary libraries"
   ]
  },
  {
   "cell_type": "code",
   "execution_count": 300,
   "id": "68afa9f1",
   "metadata": {},
   "outputs": [],
   "source": [
    "zomato_data = pd.read_csv('zomato_dataset.csv')"
   ]
  },
  {
   "cell_type": "markdown",
   "id": "d2aab25c",
   "metadata": {},
   "source": [
    "We import the dataset"
   ]
  },
  {
   "cell_type": "code",
   "execution_count": 305,
   "id": "951ca9c3",
   "metadata": {},
   "outputs": [],
   "source": [
    "#Checking for missing values\n",
    "missing_values = zomato_data.isnull().sum()\n",
    "\n",
    "#Fill in or subtract missing values\n",
    "data = zomato_data.dropna()"
   ]
  },
  {
   "cell_type": "markdown",
   "id": "e7e36242",
   "metadata": {},
   "source": [
    "We check the missing rows, columns, values ​​and then remove the empty characters from our set."
   ]
  },
  {
   "cell_type": "markdown",
   "id": "494f4c68",
   "metadata": {},
   "source": [
    "# Data Analysis"
   ]
  },
  {
   "cell_type": "markdown",
   "id": "d30787a2",
   "metadata": {},
   "source": [
    "First, let's see the table so that we can analyze"
   ]
  },
  {
   "cell_type": "code",
   "execution_count": 306,
   "id": "398d3213",
   "metadata": {},
   "outputs": [
    {
     "data": {
      "text/html": [
       "<div>\n",
       "<style scoped>\n",
       "    .dataframe tbody tr th:only-of-type {\n",
       "        vertical-align: middle;\n",
       "    }\n",
       "\n",
       "    .dataframe tbody tr th {\n",
       "        vertical-align: top;\n",
       "    }\n",
       "\n",
       "    .dataframe thead th {\n",
       "        text-align: right;\n",
       "    }\n",
       "</style>\n",
       "<table border=\"1\" class=\"dataframe\">\n",
       "  <thead>\n",
       "    <tr style=\"text-align: right;\">\n",
       "      <th></th>\n",
       "      <th>Restaurant Name</th>\n",
       "      <th>Dining Rating</th>\n",
       "      <th>Delivery Rating</th>\n",
       "      <th>Dining Votes</th>\n",
       "      <th>Delivery Votes</th>\n",
       "      <th>Cuisine</th>\n",
       "      <th>Place Name</th>\n",
       "      <th>City</th>\n",
       "      <th>Item Name</th>\n",
       "      <th>Best Seller</th>\n",
       "      <th>Votes</th>\n",
       "      <th>Prices</th>\n",
       "    </tr>\n",
       "  </thead>\n",
       "  <tbody>\n",
       "    <tr>\n",
       "      <th>0</th>\n",
       "      <td>Doner King</td>\n",
       "      <td>3.9</td>\n",
       "      <td>4.2</td>\n",
       "      <td>39</td>\n",
       "      <td>0</td>\n",
       "      <td>Fast Food</td>\n",
       "      <td>Malakpet</td>\n",
       "      <td>Hyderabad</td>\n",
       "      <td>Platter Kebab Combo</td>\n",
       "      <td>BESTSELLER</td>\n",
       "      <td>84</td>\n",
       "      <td>249.0</td>\n",
       "    </tr>\n",
       "    <tr>\n",
       "      <th>1</th>\n",
       "      <td>Doner King</td>\n",
       "      <td>3.9</td>\n",
       "      <td>4.2</td>\n",
       "      <td>39</td>\n",
       "      <td>0</td>\n",
       "      <td>Fast Food</td>\n",
       "      <td>Malakpet</td>\n",
       "      <td>Hyderabad</td>\n",
       "      <td>Chicken Rumali Shawarma</td>\n",
       "      <td>BESTSELLER</td>\n",
       "      <td>45</td>\n",
       "      <td>129.0</td>\n",
       "    </tr>\n",
       "    <tr>\n",
       "      <th>2</th>\n",
       "      <td>Doner King</td>\n",
       "      <td>3.9</td>\n",
       "      <td>4.2</td>\n",
       "      <td>39</td>\n",
       "      <td>0</td>\n",
       "      <td>Fast Food</td>\n",
       "      <td>Malakpet</td>\n",
       "      <td>Hyderabad</td>\n",
       "      <td>Chicken Tandoori Salad</td>\n",
       "      <td>NaN</td>\n",
       "      <td>39</td>\n",
       "      <td>189.0</td>\n",
       "    </tr>\n",
       "    <tr>\n",
       "      <th>3</th>\n",
       "      <td>Doner King</td>\n",
       "      <td>3.9</td>\n",
       "      <td>4.2</td>\n",
       "      <td>39</td>\n",
       "      <td>0</td>\n",
       "      <td>Fast Food</td>\n",
       "      <td>Malakpet</td>\n",
       "      <td>Hyderabad</td>\n",
       "      <td>Chicken BBQ Salad</td>\n",
       "      <td>BESTSELLER</td>\n",
       "      <td>43</td>\n",
       "      <td>189.0</td>\n",
       "    </tr>\n",
       "    <tr>\n",
       "      <th>4</th>\n",
       "      <td>Doner King</td>\n",
       "      <td>3.9</td>\n",
       "      <td>4.2</td>\n",
       "      <td>39</td>\n",
       "      <td>0</td>\n",
       "      <td>Fast Food</td>\n",
       "      <td>Malakpet</td>\n",
       "      <td>Hyderabad</td>\n",
       "      <td>Special Doner Wrap Combo</td>\n",
       "      <td>MUST TRY</td>\n",
       "      <td>31</td>\n",
       "      <td>205.0</td>\n",
       "    </tr>\n",
       "    <tr>\n",
       "      <th>...</th>\n",
       "      <td>...</td>\n",
       "      <td>...</td>\n",
       "      <td>...</td>\n",
       "      <td>...</td>\n",
       "      <td>...</td>\n",
       "      <td>...</td>\n",
       "      <td>...</td>\n",
       "      <td>...</td>\n",
       "      <td>...</td>\n",
       "      <td>...</td>\n",
       "      <td>...</td>\n",
       "      <td>...</td>\n",
       "    </tr>\n",
       "    <tr>\n",
       "      <th>123652</th>\n",
       "      <td>Ariena Boutique Hotel</td>\n",
       "      <td>3.9</td>\n",
       "      <td>4.2</td>\n",
       "      <td>13</td>\n",
       "      <td>523</td>\n",
       "      <td>Pizza</td>\n",
       "      <td>Purena</td>\n",
       "      <td>Raipur</td>\n",
       "      <td>Murgh Reshmi Kebab</td>\n",
       "      <td>NaN</td>\n",
       "      <td>0</td>\n",
       "      <td>525.0</td>\n",
       "    </tr>\n",
       "    <tr>\n",
       "      <th>123653</th>\n",
       "      <td>Ariena Boutique Hotel</td>\n",
       "      <td>3.9</td>\n",
       "      <td>4.2</td>\n",
       "      <td>13</td>\n",
       "      <td>523</td>\n",
       "      <td>Pizza</td>\n",
       "      <td>Purena</td>\n",
       "      <td>Raipur</td>\n",
       "      <td>Murgh Large Tikka</td>\n",
       "      <td>NaN</td>\n",
       "      <td>0</td>\n",
       "      <td>525.0</td>\n",
       "    </tr>\n",
       "    <tr>\n",
       "      <th>123654</th>\n",
       "      <td>Ariena Boutique Hotel</td>\n",
       "      <td>3.9</td>\n",
       "      <td>4.2</td>\n",
       "      <td>13</td>\n",
       "      <td>523</td>\n",
       "      <td>Pizza</td>\n",
       "      <td>Purena</td>\n",
       "      <td>Raipur</td>\n",
       "      <td>Murgh Chukandri Tikka</td>\n",
       "      <td>NaN</td>\n",
       "      <td>0</td>\n",
       "      <td>525.0</td>\n",
       "    </tr>\n",
       "    <tr>\n",
       "      <th>123655</th>\n",
       "      <td>Ariena Boutique Hotel</td>\n",
       "      <td>3.9</td>\n",
       "      <td>4.2</td>\n",
       "      <td>13</td>\n",
       "      <td>523</td>\n",
       "      <td>Pizza</td>\n",
       "      <td>Purena</td>\n",
       "      <td>Raipur</td>\n",
       "      <td>Murgh Golden Kebab</td>\n",
       "      <td>NaN</td>\n",
       "      <td>0</td>\n",
       "      <td>525.0</td>\n",
       "    </tr>\n",
       "    <tr>\n",
       "      <th>123656</th>\n",
       "      <td>Ariena Boutique Hotel</td>\n",
       "      <td>3.9</td>\n",
       "      <td>4.2</td>\n",
       "      <td>13</td>\n",
       "      <td>523</td>\n",
       "      <td>Pizza</td>\n",
       "      <td>Purena</td>\n",
       "      <td>Raipur</td>\n",
       "      <td>Gosht Gilawat Chop</td>\n",
       "      <td>BESTSELLER</td>\n",
       "      <td>0</td>\n",
       "      <td>595.0</td>\n",
       "    </tr>\n",
       "  </tbody>\n",
       "</table>\n",
       "<p>123657 rows × 12 columns</p>\n",
       "</div>"
      ],
      "text/plain": [
       "              Restaurant Name  Dining Rating  Delivery Rating  Dining Votes  \\\n",
       "0                  Doner King            3.9              4.2            39   \n",
       "1                  Doner King            3.9              4.2            39   \n",
       "2                  Doner King            3.9              4.2            39   \n",
       "3                  Doner King            3.9              4.2            39   \n",
       "4                  Doner King            3.9              4.2            39   \n",
       "...                       ...            ...              ...           ...   \n",
       "123652  Ariena Boutique Hotel            3.9              4.2            13   \n",
       "123653  Ariena Boutique Hotel            3.9              4.2            13   \n",
       "123654  Ariena Boutique Hotel            3.9              4.2            13   \n",
       "123655  Ariena Boutique Hotel            3.9              4.2            13   \n",
       "123656  Ariena Boutique Hotel            3.9              4.2            13   \n",
       "\n",
       "        Delivery Votes   Cuisine  Place Name        City  \\\n",
       "0                    0  Fast Food   Malakpet   Hyderabad   \n",
       "1                    0  Fast Food   Malakpet   Hyderabad   \n",
       "2                    0  Fast Food   Malakpet   Hyderabad   \n",
       "3                    0  Fast Food   Malakpet   Hyderabad   \n",
       "4                    0  Fast Food   Malakpet   Hyderabad   \n",
       "...                ...        ...        ...         ...   \n",
       "123652             523      Pizza     Purena      Raipur   \n",
       "123653             523      Pizza     Purena      Raipur   \n",
       "123654             523      Pizza     Purena      Raipur   \n",
       "123655             523      Pizza     Purena      Raipur   \n",
       "123656             523      Pizza     Purena      Raipur   \n",
       "\n",
       "                       Item Name Best Seller  Votes  Prices  \n",
       "0            Platter Kebab Combo  BESTSELLER     84   249.0  \n",
       "1        Chicken Rumali Shawarma  BESTSELLER     45   129.0  \n",
       "2         Chicken Tandoori Salad         NaN     39   189.0  \n",
       "3              Chicken BBQ Salad  BESTSELLER     43   189.0  \n",
       "4       Special Doner Wrap Combo    MUST TRY     31   205.0  \n",
       "...                          ...         ...    ...     ...  \n",
       "123652        Murgh Reshmi Kebab         NaN      0   525.0  \n",
       "123653         Murgh Large Tikka         NaN      0   525.0  \n",
       "123654     Murgh Chukandri Tikka         NaN      0   525.0  \n",
       "123655        Murgh Golden Kebab         NaN      0   525.0  \n",
       "123656        Gosht Gilawat Chop  BESTSELLER      0   595.0  \n",
       "\n",
       "[123657 rows x 12 columns]"
      ]
     },
     "execution_count": 306,
     "metadata": {},
     "output_type": "execute_result"
    }
   ],
   "source": [
    "#We have installed the Pandas library\n",
    "import pandas as pd\n",
    "\n",
    "df = pd.read_csv(\"zomato_dataset.csv\")\n",
    "df\n"
   ]
  },
  {
   "cell_type": "markdown",
   "id": "0655c529",
   "metadata": {},
   "source": [
    "            "
   ]
  },
  {
   "cell_type": "markdown",
   "id": "434b0590",
   "metadata": {},
   "source": [
    "                        "
   ]
  },
  {
   "cell_type": "markdown",
   "id": "004a448e",
   "metadata": {},
   "source": [
    "We listed the restaurant names (Each restaurant name was listed only once)"
   ]
  },
  {
   "cell_type": "code",
   "execution_count": 307,
   "id": "4f38edef",
   "metadata": {
    "scrolled": true
   },
   "outputs": [
    {
     "data": {
      "text/html": [
       "<div>\n",
       "<style scoped>\n",
       "    .dataframe tbody tr th:only-of-type {\n",
       "        vertical-align: middle;\n",
       "    }\n",
       "\n",
       "    .dataframe tbody tr th {\n",
       "        vertical-align: top;\n",
       "    }\n",
       "\n",
       "    .dataframe thead th {\n",
       "        text-align: right;\n",
       "    }\n",
       "</style>\n",
       "<table border=\"1\" class=\"dataframe\">\n",
       "  <thead>\n",
       "    <tr style=\"text-align: right;\">\n",
       "      <th></th>\n",
       "      <th>Restaurant Name</th>\n",
       "    </tr>\n",
       "  </thead>\n",
       "  <tbody>\n",
       "    <tr>\n",
       "      <th>0</th>\n",
       "      <td>Doner King</td>\n",
       "    </tr>\n",
       "    <tr>\n",
       "      <th>1</th>\n",
       "      <td>Taco Bell</td>\n",
       "    </tr>\n",
       "    <tr>\n",
       "      <th>2</th>\n",
       "      <td>BrownBear</td>\n",
       "    </tr>\n",
       "    <tr>\n",
       "      <th>3</th>\n",
       "      <td>Crystal Restaurant &amp; Bar</td>\n",
       "    </tr>\n",
       "    <tr>\n",
       "      <th>4</th>\n",
       "      <td>Siddique Kabab Centre</td>\n",
       "    </tr>\n",
       "    <tr>\n",
       "      <th>...</th>\n",
       "      <td>...</td>\n",
       "    </tr>\n",
       "    <tr>\n",
       "      <th>821</th>\n",
       "      <td>KGN Chicken Corner &amp; Biryani Center</td>\n",
       "    </tr>\n",
       "    <tr>\n",
       "      <th>822</th>\n",
       "      <td>Pohewala</td>\n",
       "    </tr>\n",
       "    <tr>\n",
       "      <th>823</th>\n",
       "      <td>The Breakfast Cafe</td>\n",
       "    </tr>\n",
       "    <tr>\n",
       "      <th>824</th>\n",
       "      <td>Dakshin Swaad</td>\n",
       "    </tr>\n",
       "    <tr>\n",
       "      <th>825</th>\n",
       "      <td>Ariena Boutique Hotel</td>\n",
       "    </tr>\n",
       "  </tbody>\n",
       "</table>\n",
       "<p>826 rows × 1 columns</p>\n",
       "</div>"
      ],
      "text/plain": [
       "                         Restaurant Name\n",
       "0                             Doner King\n",
       "1                              Taco Bell\n",
       "2                              BrownBear\n",
       "3               Crystal Restaurant & Bar\n",
       "4                  Siddique Kabab Centre\n",
       "..                                   ...\n",
       "821  KGN Chicken Corner & Biryani Center\n",
       "822                             Pohewala\n",
       "823                   The Breakfast Cafe\n",
       "824                        Dakshin Swaad\n",
       "825                Ariena Boutique Hotel\n",
       "\n",
       "[826 rows x 1 columns]"
      ]
     },
     "execution_count": 307,
     "metadata": {},
     "output_type": "execute_result"
    }
   ],
   "source": [
    "# Get all the different restaurant names\n",
    "unique_restaurant_names = df[\"Restaurant Name\"].unique()\n",
    "\n",
    "unique_restaurants_df = pd.DataFrame(unique_restaurant_names, columns=[\"Restaurant Name\"])\n",
    "\n",
    "unique_restaurants_df\n",
    "\n"
   ]
  },
  {
   "cell_type": "markdown",
   "id": "e018564d",
   "metadata": {},
   "source": [
    "                    "
   ]
  },
  {
   "cell_type": "markdown",
   "id": "5ac2c397",
   "metadata": {},
   "source": [
    "                            "
   ]
  },
  {
   "cell_type": "markdown",
   "id": "da6ac5b0",
   "metadata": {},
   "source": [
    "Dining Ratings of All Restaurants (Each Restaurant is written once)"
   ]
  },
  {
   "cell_type": "markdown",
   "id": "6c7a543d",
   "metadata": {},
   "source": [
    "NOTE: I used the .last function as there are grouping values ​​in sorting operations, if you want, you can also use the .first command."
   ]
  },
  {
   "cell_type": "code",
   "execution_count": 23,
   "id": "9c47a0e7",
   "metadata": {},
   "outputs": [
    {
     "data": {
      "text/html": [
       "<div>\n",
       "<style scoped>\n",
       "    .dataframe tbody tr th:only-of-type {\n",
       "        vertical-align: middle;\n",
       "    }\n",
       "\n",
       "    .dataframe tbody tr th {\n",
       "        vertical-align: top;\n",
       "    }\n",
       "\n",
       "    .dataframe thead th {\n",
       "        text-align: right;\n",
       "    }\n",
       "</style>\n",
       "<table border=\"1\" class=\"dataframe\">\n",
       "  <thead>\n",
       "    <tr style=\"text-align: right;\">\n",
       "      <th></th>\n",
       "      <th>Dining Rating</th>\n",
       "    </tr>\n",
       "    <tr>\n",
       "      <th>Restaurant Name</th>\n",
       "      <th></th>\n",
       "    </tr>\n",
       "  </thead>\n",
       "  <tbody>\n",
       "    <tr>\n",
       "      <th>12 To 12 BBQ</th>\n",
       "      <td>4.0</td>\n",
       "    </tr>\n",
       "    <tr>\n",
       "      <th>1441 Pizzeria</th>\n",
       "      <td>NaN</td>\n",
       "    </tr>\n",
       "    <tr>\n",
       "      <th>1944 -The HOCCO Kitchen</th>\n",
       "      <td>4.3</td>\n",
       "    </tr>\n",
       "    <tr>\n",
       "      <th>4M Biryani House</th>\n",
       "      <td>4.1</td>\n",
       "    </tr>\n",
       "    <tr>\n",
       "      <th>7 Plates</th>\n",
       "      <td>NaN</td>\n",
       "    </tr>\n",
       "    <tr>\n",
       "      <th>...</th>\n",
       "      <td>...</td>\n",
       "    </tr>\n",
       "    <tr>\n",
       "      <th>Zaffran Mataam Alarabi</th>\n",
       "      <td>4.1</td>\n",
       "    </tr>\n",
       "    <tr>\n",
       "      <th>Zam Zam Briyani</th>\n",
       "      <td>3.3</td>\n",
       "    </tr>\n",
       "    <tr>\n",
       "      <th>Zam Zam Restaurant</th>\n",
       "      <td>4.2</td>\n",
       "    </tr>\n",
       "    <tr>\n",
       "      <th>Zeeshan Biryani Corner</th>\n",
       "      <td>3.7</td>\n",
       "    </tr>\n",
       "    <tr>\n",
       "      <th>Zomoz - The Momo Company</th>\n",
       "      <td>NaN</td>\n",
       "    </tr>\n",
       "  </tbody>\n",
       "</table>\n",
       "<p>826 rows × 1 columns</p>\n",
       "</div>"
      ],
      "text/plain": [
       "                          Dining Rating\n",
       "Restaurant Name                        \n",
       "12 To 12 BBQ                        4.0\n",
       "1441 Pizzeria                       NaN\n",
       "1944 -The HOCCO Kitchen             4.3\n",
       "4M Biryani House                    4.1\n",
       "7 Plates                            NaN\n",
       "...                                 ...\n",
       "Zaffran Mataam Alarabi              4.1\n",
       "Zam Zam Briyani                     3.3\n",
       "Zam Zam Restaurant                  4.2\n",
       "Zeeshan Biryani Corner              3.7\n",
       "Zomoz - The Momo Company            NaN\n",
       "\n",
       "[826 rows x 1 columns]"
      ]
     },
     "execution_count": 23,
     "metadata": {},
     "output_type": "execute_result"
    }
   ],
   "source": [
    "unique_restaurants_dining = df.groupby(\"Restaurant Name\").last()[[\"Dining Rating\"]]\n",
    "unique_restaurants_dining\n"
   ]
  },
  {
   "cell_type": "markdown",
   "id": "71858b73",
   "metadata": {},
   "source": [
    "                    "
   ]
  },
  {
   "cell_type": "markdown",
   "id": "a9de90e5",
   "metadata": {},
   "source": [
    "                    "
   ]
  },
  {
   "cell_type": "markdown",
   "id": "d2e40872",
   "metadata": {},
   "source": [
    "Delivery Ratings of all restaurants"
   ]
  },
  {
   "cell_type": "code",
   "execution_count": 24,
   "id": "e6379477",
   "metadata": {},
   "outputs": [
    {
     "data": {
      "text/html": [
       "<div>\n",
       "<style scoped>\n",
       "    .dataframe tbody tr th:only-of-type {\n",
       "        vertical-align: middle;\n",
       "    }\n",
       "\n",
       "    .dataframe tbody tr th {\n",
       "        vertical-align: top;\n",
       "    }\n",
       "\n",
       "    .dataframe thead th {\n",
       "        text-align: right;\n",
       "    }\n",
       "</style>\n",
       "<table border=\"1\" class=\"dataframe\">\n",
       "  <thead>\n",
       "    <tr style=\"text-align: right;\">\n",
       "      <th></th>\n",
       "      <th>Delivery Rating</th>\n",
       "    </tr>\n",
       "    <tr>\n",
       "      <th>Restaurant Name</th>\n",
       "      <th></th>\n",
       "    </tr>\n",
       "  </thead>\n",
       "  <tbody>\n",
       "    <tr>\n",
       "      <th>12 To 12 BBQ</th>\n",
       "      <td>4.0</td>\n",
       "    </tr>\n",
       "    <tr>\n",
       "      <th>1441 Pizzeria</th>\n",
       "      <td>4.0</td>\n",
       "    </tr>\n",
       "    <tr>\n",
       "      <th>1944 -The HOCCO Kitchen</th>\n",
       "      <td>4.3</td>\n",
       "    </tr>\n",
       "    <tr>\n",
       "      <th>4M Biryani House</th>\n",
       "      <td>4.2</td>\n",
       "    </tr>\n",
       "    <tr>\n",
       "      <th>7 Plates</th>\n",
       "      <td>4.3</td>\n",
       "    </tr>\n",
       "    <tr>\n",
       "      <th>...</th>\n",
       "      <td>...</td>\n",
       "    </tr>\n",
       "    <tr>\n",
       "      <th>Zaffran Mataam Alarabi</th>\n",
       "      <td>4.1</td>\n",
       "    </tr>\n",
       "    <tr>\n",
       "      <th>Zam Zam Briyani</th>\n",
       "      <td>3.4</td>\n",
       "    </tr>\n",
       "    <tr>\n",
       "      <th>Zam Zam Restaurant</th>\n",
       "      <td>4.3</td>\n",
       "    </tr>\n",
       "    <tr>\n",
       "      <th>Zeeshan Biryani Corner</th>\n",
       "      <td>4.0</td>\n",
       "    </tr>\n",
       "    <tr>\n",
       "      <th>Zomoz - The Momo Company</th>\n",
       "      <td>4.3</td>\n",
       "    </tr>\n",
       "  </tbody>\n",
       "</table>\n",
       "<p>826 rows × 1 columns</p>\n",
       "</div>"
      ],
      "text/plain": [
       "                          Delivery Rating\n",
       "Restaurant Name                          \n",
       "12 To 12 BBQ                          4.0\n",
       "1441 Pizzeria                         4.0\n",
       "1944 -The HOCCO Kitchen               4.3\n",
       "4M Biryani House                      4.2\n",
       "7 Plates                              4.3\n",
       "...                                   ...\n",
       "Zaffran Mataam Alarabi                4.1\n",
       "Zam Zam Briyani                       3.4\n",
       "Zam Zam Restaurant                    4.3\n",
       "Zeeshan Biryani Corner                4.0\n",
       "Zomoz - The Momo Company              4.3\n",
       "\n",
       "[826 rows x 1 columns]"
      ]
     },
     "execution_count": 24,
     "metadata": {},
     "output_type": "execute_result"
    }
   ],
   "source": [
    "unique_restaurants_delivery = df.groupby(\"Restaurant Name\").last()[[\"Delivery Rating\"]]\n",
    "unique_restaurants_delivery"
   ]
  },
  {
   "cell_type": "markdown",
   "id": "cb8e7ae6",
   "metadata": {},
   "source": [
    "                "
   ]
  },
  {
   "cell_type": "markdown",
   "id": "1659597e",
   "metadata": {},
   "source": [
    "                        "
   ]
  },
  {
   "cell_type": "markdown",
   "id": "3f4c6838",
   "metadata": {},
   "source": [
    "Food Ratings of All Restaurants"
   ]
  },
  {
   "cell_type": "code",
   "execution_count": 25,
   "id": "d86b6dfe",
   "metadata": {
    "scrolled": true
   },
   "outputs": [
    {
     "data": {
      "text/html": [
       "<div>\n",
       "<style scoped>\n",
       "    .dataframe tbody tr th:only-of-type {\n",
       "        vertical-align: middle;\n",
       "    }\n",
       "\n",
       "    .dataframe tbody tr th {\n",
       "        vertical-align: top;\n",
       "    }\n",
       "\n",
       "    .dataframe thead th {\n",
       "        text-align: right;\n",
       "    }\n",
       "</style>\n",
       "<table border=\"1\" class=\"dataframe\">\n",
       "  <thead>\n",
       "    <tr style=\"text-align: right;\">\n",
       "      <th></th>\n",
       "      <th>Dining Votes</th>\n",
       "    </tr>\n",
       "    <tr>\n",
       "      <th>Restaurant Name</th>\n",
       "      <th></th>\n",
       "    </tr>\n",
       "  </thead>\n",
       "  <tbody>\n",
       "    <tr>\n",
       "      <th>12 To 12 BBQ</th>\n",
       "      <td>104</td>\n",
       "    </tr>\n",
       "    <tr>\n",
       "      <th>1441 Pizzeria</th>\n",
       "      <td>0</td>\n",
       "    </tr>\n",
       "    <tr>\n",
       "      <th>1944 -The HOCCO Kitchen</th>\n",
       "      <td>0</td>\n",
       "    </tr>\n",
       "    <tr>\n",
       "      <th>4M Biryani House</th>\n",
       "      <td>0</td>\n",
       "    </tr>\n",
       "    <tr>\n",
       "      <th>7 Plates</th>\n",
       "      <td>0</td>\n",
       "    </tr>\n",
       "    <tr>\n",
       "      <th>...</th>\n",
       "      <td>...</td>\n",
       "    </tr>\n",
       "    <tr>\n",
       "      <th>Zaffran Mataam Alarabi</th>\n",
       "      <td>482</td>\n",
       "    </tr>\n",
       "    <tr>\n",
       "      <th>Zam Zam Briyani</th>\n",
       "      <td>24</td>\n",
       "    </tr>\n",
       "    <tr>\n",
       "      <th>Zam Zam Restaurant</th>\n",
       "      <td>0</td>\n",
       "    </tr>\n",
       "    <tr>\n",
       "      <th>Zeeshan Biryani Corner</th>\n",
       "      <td>195</td>\n",
       "    </tr>\n",
       "    <tr>\n",
       "      <th>Zomoz - The Momo Company</th>\n",
       "      <td>0</td>\n",
       "    </tr>\n",
       "  </tbody>\n",
       "</table>\n",
       "<p>826 rows × 1 columns</p>\n",
       "</div>"
      ],
      "text/plain": [
       "                          Dining Votes\n",
       "Restaurant Name                       \n",
       "12 To 12 BBQ                       104\n",
       "1441 Pizzeria                        0\n",
       "1944 -The HOCCO Kitchen              0\n",
       "4M Biryani House                     0\n",
       "7 Plates                             0\n",
       "...                                ...\n",
       "Zaffran Mataam Alarabi             482\n",
       "Zam Zam Briyani                     24\n",
       "Zam Zam Restaurant                   0\n",
       "Zeeshan Biryani Corner             195\n",
       "Zomoz - The Momo Company             0\n",
       "\n",
       "[826 rows x 1 columns]"
      ]
     },
     "execution_count": 25,
     "metadata": {},
     "output_type": "execute_result"
    }
   ],
   "source": [
    "unique_restaurants_Dining = df.groupby(\"Restaurant Name\").last()[[\"Dining Votes\"]]\n",
    "unique_restaurants_Dining\n"
   ]
  },
  {
   "cell_type": "markdown",
   "id": "20a517ff",
   "metadata": {},
   "source": [
    "                    "
   ]
  },
  {
   "cell_type": "markdown",
   "id": "16eb37fa",
   "metadata": {},
   "source": [
    "                    "
   ]
  },
  {
   "cell_type": "markdown",
   "id": "66ea6aed",
   "metadata": {},
   "source": [
    "Delivery Votes of All Restaurants"
   ]
  },
  {
   "cell_type": "code",
   "execution_count": 26,
   "id": "c0723491",
   "metadata": {
    "scrolled": true
   },
   "outputs": [
    {
     "data": {
      "text/html": [
       "<div>\n",
       "<style scoped>\n",
       "    .dataframe tbody tr th:only-of-type {\n",
       "        vertical-align: middle;\n",
       "    }\n",
       "\n",
       "    .dataframe tbody tr th {\n",
       "        vertical-align: top;\n",
       "    }\n",
       "\n",
       "    .dataframe thead th {\n",
       "        text-align: right;\n",
       "    }\n",
       "</style>\n",
       "<table border=\"1\" class=\"dataframe\">\n",
       "  <thead>\n",
       "    <tr style=\"text-align: right;\">\n",
       "      <th></th>\n",
       "      <th>Delivery Votes</th>\n",
       "    </tr>\n",
       "    <tr>\n",
       "      <th>Restaurant Name</th>\n",
       "      <th></th>\n",
       "    </tr>\n",
       "  </thead>\n",
       "  <tbody>\n",
       "    <tr>\n",
       "      <th>12 To 12 BBQ</th>\n",
       "      <td>0</td>\n",
       "    </tr>\n",
       "    <tr>\n",
       "      <th>1441 Pizzeria</th>\n",
       "      <td>0</td>\n",
       "    </tr>\n",
       "    <tr>\n",
       "      <th>1944 -The HOCCO Kitchen</th>\n",
       "      <td>0</td>\n",
       "    </tr>\n",
       "    <tr>\n",
       "      <th>4M Biryani House</th>\n",
       "      <td>0</td>\n",
       "    </tr>\n",
       "    <tr>\n",
       "      <th>7 Plates</th>\n",
       "      <td>0</td>\n",
       "    </tr>\n",
       "    <tr>\n",
       "      <th>...</th>\n",
       "      <td>...</td>\n",
       "    </tr>\n",
       "    <tr>\n",
       "      <th>Zaffran Mataam Alarabi</th>\n",
       "      <td>911</td>\n",
       "    </tr>\n",
       "    <tr>\n",
       "      <th>Zam Zam Briyani</th>\n",
       "      <td>0</td>\n",
       "    </tr>\n",
       "    <tr>\n",
       "      <th>Zam Zam Restaurant</th>\n",
       "      <td>0</td>\n",
       "    </tr>\n",
       "    <tr>\n",
       "      <th>Zeeshan Biryani Corner</th>\n",
       "      <td>0</td>\n",
       "    </tr>\n",
       "    <tr>\n",
       "      <th>Zomoz - The Momo Company</th>\n",
       "      <td>726</td>\n",
       "    </tr>\n",
       "  </tbody>\n",
       "</table>\n",
       "<p>826 rows × 1 columns</p>\n",
       "</div>"
      ],
      "text/plain": [
       "                          Delivery Votes\n",
       "Restaurant Name                         \n",
       "12 To 12 BBQ                           0\n",
       "1441 Pizzeria                          0\n",
       "1944 -The HOCCO Kitchen                0\n",
       "4M Biryani House                       0\n",
       "7 Plates                               0\n",
       "...                                  ...\n",
       "Zaffran Mataam Alarabi               911\n",
       "Zam Zam Briyani                        0\n",
       "Zam Zam Restaurant                     0\n",
       "Zeeshan Biryani Corner                 0\n",
       "Zomoz - The Momo Company             726\n",
       "\n",
       "[826 rows x 1 columns]"
      ]
     },
     "execution_count": 26,
     "metadata": {},
     "output_type": "execute_result"
    }
   ],
   "source": [
    "unique_restaurants_Delivery_Votes = df.groupby(\"Restaurant Name\").last()[[\"Delivery Votes\"]]\n",
    "unique_restaurants_Delivery_Votes"
   ]
  },
  {
   "cell_type": "markdown",
   "id": "18b965a9",
   "metadata": {},
   "source": [
    "                    "
   ]
  },
  {
   "cell_type": "markdown",
   "id": "862cb4a8",
   "metadata": {},
   "source": [
    "                    "
   ]
  },
  {
   "cell_type": "markdown",
   "id": "3d5f5bad",
   "metadata": {},
   "source": [
    "Local Cuisine Preferences of All Restaurants"
   ]
  },
  {
   "cell_type": "code",
   "execution_count": 27,
   "id": "97abc797",
   "metadata": {
    "scrolled": false
   },
   "outputs": [
    {
     "data": {
      "text/html": [
       "<div>\n",
       "<style scoped>\n",
       "    .dataframe tbody tr th:only-of-type {\n",
       "        vertical-align: middle;\n",
       "    }\n",
       "\n",
       "    .dataframe tbody tr th {\n",
       "        vertical-align: top;\n",
       "    }\n",
       "\n",
       "    .dataframe thead th {\n",
       "        text-align: right;\n",
       "    }\n",
       "</style>\n",
       "<table border=\"1\" class=\"dataframe\">\n",
       "  <thead>\n",
       "    <tr style=\"text-align: right;\">\n",
       "      <th></th>\n",
       "      <th>Cuisine</th>\n",
       "    </tr>\n",
       "    <tr>\n",
       "      <th>Restaurant Name</th>\n",
       "      <th></th>\n",
       "    </tr>\n",
       "  </thead>\n",
       "  <tbody>\n",
       "    <tr>\n",
       "      <th>12 To 12 BBQ</th>\n",
       "      <td>Biryani</td>\n",
       "    </tr>\n",
       "    <tr>\n",
       "      <th>1441 Pizzeria</th>\n",
       "      <td>Desserts</td>\n",
       "    </tr>\n",
       "    <tr>\n",
       "      <th>1944 -The HOCCO Kitchen</th>\n",
       "      <td>Shake</td>\n",
       "    </tr>\n",
       "    <tr>\n",
       "      <th>4M Biryani House</th>\n",
       "      <td>Chinese</td>\n",
       "    </tr>\n",
       "    <tr>\n",
       "      <th>7 Plates</th>\n",
       "      <td>Seafood</td>\n",
       "    </tr>\n",
       "    <tr>\n",
       "      <th>...</th>\n",
       "      <td>...</td>\n",
       "    </tr>\n",
       "    <tr>\n",
       "      <th>Zaffran Mataam Alarabi</th>\n",
       "      <td>Desserts</td>\n",
       "    </tr>\n",
       "    <tr>\n",
       "      <th>Zam Zam Briyani</th>\n",
       "      <td>North Indian</td>\n",
       "    </tr>\n",
       "    <tr>\n",
       "      <th>Zam Zam Restaurant</th>\n",
       "      <td>Pizza</td>\n",
       "    </tr>\n",
       "    <tr>\n",
       "      <th>Zeeshan Biryani Corner</th>\n",
       "      <td>Biryani</td>\n",
       "    </tr>\n",
       "    <tr>\n",
       "      <th>Zomoz - The Momo Company</th>\n",
       "      <td>Fast Food</td>\n",
       "    </tr>\n",
       "  </tbody>\n",
       "</table>\n",
       "<p>826 rows × 1 columns</p>\n",
       "</div>"
      ],
      "text/plain": [
       "                              Cuisine \n",
       "Restaurant Name                       \n",
       "12 To 12 BBQ                   Biryani\n",
       "1441 Pizzeria                 Desserts\n",
       "1944 -The HOCCO Kitchen          Shake\n",
       "4M Biryani House               Chinese\n",
       "7 Plates                       Seafood\n",
       "...                                ...\n",
       "Zaffran Mataam Alarabi        Desserts\n",
       "Zam Zam Briyani           North Indian\n",
       "Zam Zam Restaurant               Pizza\n",
       "Zeeshan Biryani Corner         Biryani\n",
       "Zomoz - The Momo Company     Fast Food\n",
       "\n",
       "[826 rows x 1 columns]"
      ]
     },
     "execution_count": 27,
     "metadata": {},
     "output_type": "execute_result"
    }
   ],
   "source": [
    "unique_restaurant_Cuisine = df.groupby(\"Restaurant Name\").last()[[\"Cuisine \"]]\n",
    "unique_restaurant_Cuisine"
   ]
  },
  {
   "cell_type": "markdown",
   "id": "d7018803",
   "metadata": {},
   "source": [
    "                    "
   ]
  },
  {
   "cell_type": "markdown",
   "id": "fda05013",
   "metadata": {},
   "source": [
    "                    "
   ]
  },
  {
   "cell_type": "markdown",
   "id": "1317eb56",
   "metadata": {},
   "source": [
    "Place Names of Restaurants"
   ]
  },
  {
   "cell_type": "code",
   "execution_count": 29,
   "id": "78f8bcf0",
   "metadata": {
    "scrolled": false
   },
   "outputs": [
    {
     "data": {
      "text/html": [
       "<div>\n",
       "<style scoped>\n",
       "    .dataframe tbody tr th:only-of-type {\n",
       "        vertical-align: middle;\n",
       "    }\n",
       "\n",
       "    .dataframe tbody tr th {\n",
       "        vertical-align: top;\n",
       "    }\n",
       "\n",
       "    .dataframe thead th {\n",
       "        text-align: right;\n",
       "    }\n",
       "</style>\n",
       "<table border=\"1\" class=\"dataframe\">\n",
       "  <thead>\n",
       "    <tr style=\"text-align: right;\">\n",
       "      <th></th>\n",
       "      <th>Place Name</th>\n",
       "    </tr>\n",
       "    <tr>\n",
       "      <th>Restaurant Name</th>\n",
       "      <th></th>\n",
       "    </tr>\n",
       "  </thead>\n",
       "  <tbody>\n",
       "    <tr>\n",
       "      <th>12 To 12 BBQ</th>\n",
       "      <td>Panampilly Nagar</td>\n",
       "    </tr>\n",
       "    <tr>\n",
       "      <th>1441 Pizzeria</th>\n",
       "      <td>Sion</td>\n",
       "    </tr>\n",
       "    <tr>\n",
       "      <th>1944 -The HOCCO Kitchen</th>\n",
       "      <td>Navrangpura</td>\n",
       "    </tr>\n",
       "    <tr>\n",
       "      <th>4M Biryani House</th>\n",
       "      <td>Musheerabad</td>\n",
       "    </tr>\n",
       "    <tr>\n",
       "      <th>7 Plates</th>\n",
       "      <td>Frazer Town</td>\n",
       "    </tr>\n",
       "    <tr>\n",
       "      <th>...</th>\n",
       "      <td>...</td>\n",
       "    </tr>\n",
       "    <tr>\n",
       "      <th>Zaffran Mataam Alarabi</th>\n",
       "      <td>Falaknuma</td>\n",
       "    </tr>\n",
       "    <tr>\n",
       "      <th>Zam Zam Briyani</th>\n",
       "      <td>Choolaimedu</td>\n",
       "    </tr>\n",
       "    <tr>\n",
       "      <th>Zam Zam Restaurant</th>\n",
       "      <td>Park Circus Area</td>\n",
       "    </tr>\n",
       "    <tr>\n",
       "      <th>Zeeshan Biryani Corner</th>\n",
       "      <td>Lalbagh</td>\n",
       "    </tr>\n",
       "    <tr>\n",
       "      <th>Zomoz - The Momo Company</th>\n",
       "      <td>Abids</td>\n",
       "    </tr>\n",
       "  </tbody>\n",
       "</table>\n",
       "<p>826 rows × 1 columns</p>\n",
       "</div>"
      ],
      "text/plain": [
       "                                Place Name\n",
       "Restaurant Name                           \n",
       "12 To 12 BBQ              Panampilly Nagar\n",
       "1441 Pizzeria                         Sion\n",
       "1944 -The HOCCO Kitchen        Navrangpura\n",
       "4M Biryani House               Musheerabad\n",
       "7 Plates                       Frazer Town\n",
       "...                                    ...\n",
       "Zaffran Mataam Alarabi           Falaknuma\n",
       "Zam Zam Briyani                Choolaimedu\n",
       "Zam Zam Restaurant        Park Circus Area\n",
       "Zeeshan Biryani Corner             Lalbagh\n",
       "Zomoz - The Momo Company             Abids\n",
       "\n",
       "[826 rows x 1 columns]"
      ]
     },
     "execution_count": 29,
     "metadata": {},
     "output_type": "execute_result"
    }
   ],
   "source": [
    "unique_restaurant_place_names = df.groupby(\"Restaurant Name\").last()[[\"Place Name\"]]\n",
    "unique_restaurant_place_names"
   ]
  },
  {
   "cell_type": "markdown",
   "id": "22490261",
   "metadata": {},
   "source": [
    "                    "
   ]
  },
  {
   "cell_type": "markdown",
   "id": "5c2672d0",
   "metadata": {},
   "source": [
    "                    "
   ]
  },
  {
   "cell_type": "markdown",
   "id": "3496c886",
   "metadata": {},
   "source": [
    "Cities with Restaurants"
   ]
  },
  {
   "cell_type": "code",
   "execution_count": 30,
   "id": "cc249158",
   "metadata": {
    "scrolled": true
   },
   "outputs": [
    {
     "data": {
      "text/html": [
       "<div>\n",
       "<style scoped>\n",
       "    .dataframe tbody tr th:only-of-type {\n",
       "        vertical-align: middle;\n",
       "    }\n",
       "\n",
       "    .dataframe tbody tr th {\n",
       "        vertical-align: top;\n",
       "    }\n",
       "\n",
       "    .dataframe thead th {\n",
       "        text-align: right;\n",
       "    }\n",
       "</style>\n",
       "<table border=\"1\" class=\"dataframe\">\n",
       "  <thead>\n",
       "    <tr style=\"text-align: right;\">\n",
       "      <th></th>\n",
       "      <th>City</th>\n",
       "    </tr>\n",
       "    <tr>\n",
       "      <th>Restaurant Name</th>\n",
       "      <th></th>\n",
       "    </tr>\n",
       "  </thead>\n",
       "  <tbody>\n",
       "    <tr>\n",
       "      <th>12 To 12 BBQ</th>\n",
       "      <td>Kochi</td>\n",
       "    </tr>\n",
       "    <tr>\n",
       "      <th>1441 Pizzeria</th>\n",
       "      <td>Mumbai</td>\n",
       "    </tr>\n",
       "    <tr>\n",
       "      <th>1944 -The HOCCO Kitchen</th>\n",
       "      <td>Ahmedabad</td>\n",
       "    </tr>\n",
       "    <tr>\n",
       "      <th>4M Biryani House</th>\n",
       "      <td>Hyderabad</td>\n",
       "    </tr>\n",
       "    <tr>\n",
       "      <th>7 Plates</th>\n",
       "      <td>Bangalore</td>\n",
       "    </tr>\n",
       "    <tr>\n",
       "      <th>...</th>\n",
       "      <td>...</td>\n",
       "    </tr>\n",
       "    <tr>\n",
       "      <th>Zaffran Mataam Alarabi</th>\n",
       "      <td>Hyderabad</td>\n",
       "    </tr>\n",
       "    <tr>\n",
       "      <th>Zam Zam Briyani</th>\n",
       "      <td>Chennai</td>\n",
       "    </tr>\n",
       "    <tr>\n",
       "      <th>Zam Zam Restaurant</th>\n",
       "      <td>Kolkata</td>\n",
       "    </tr>\n",
       "    <tr>\n",
       "      <th>Zeeshan Biryani Corner</th>\n",
       "      <td>Lucknow</td>\n",
       "    </tr>\n",
       "    <tr>\n",
       "      <th>Zomoz - The Momo Company</th>\n",
       "      <td>Hyderabad</td>\n",
       "    </tr>\n",
       "  </tbody>\n",
       "</table>\n",
       "<p>826 rows × 1 columns</p>\n",
       "</div>"
      ],
      "text/plain": [
       "                                City\n",
       "Restaurant Name                     \n",
       "12 To 12 BBQ                   Kochi\n",
       "1441 Pizzeria                 Mumbai\n",
       "1944 -The HOCCO Kitchen    Ahmedabad\n",
       "4M Biryani House           Hyderabad\n",
       "7 Plates                   Bangalore\n",
       "...                              ...\n",
       "Zaffran Mataam Alarabi     Hyderabad\n",
       "Zam Zam Briyani              Chennai\n",
       "Zam Zam Restaurant           Kolkata\n",
       "Zeeshan Biryani Corner       Lucknow\n",
       "Zomoz - The Momo Company   Hyderabad\n",
       "\n",
       "[826 rows x 1 columns]"
      ]
     },
     "execution_count": 30,
     "metadata": {},
     "output_type": "execute_result"
    }
   ],
   "source": [
    "unique_restaurant_Cities = df.groupby(\"Restaurant Name\").last()[[\"City\"]]\n",
    "unique_restaurant_Cities"
   ]
  },
  {
   "cell_type": "markdown",
   "id": "86c86ac9",
   "metadata": {},
   "source": [
    "                    "
   ]
  },
  {
   "cell_type": "markdown",
   "id": "16d68049",
   "metadata": {},
   "source": [
    "                    "
   ]
  },
  {
   "cell_type": "markdown",
   "id": "39d8346c",
   "metadata": {},
   "source": [
    "Item Names of Restaurants"
   ]
  },
  {
   "cell_type": "code",
   "execution_count": 38,
   "id": "ccbdf23d",
   "metadata": {
    "scrolled": true
   },
   "outputs": [
    {
     "data": {
      "text/html": [
       "<div>\n",
       "<style scoped>\n",
       "    .dataframe tbody tr th:only-of-type {\n",
       "        vertical-align: middle;\n",
       "    }\n",
       "\n",
       "    .dataframe tbody tr th {\n",
       "        vertical-align: top;\n",
       "    }\n",
       "\n",
       "    .dataframe thead th {\n",
       "        text-align: right;\n",
       "    }\n",
       "</style>\n",
       "<table border=\"1\" class=\"dataframe\">\n",
       "  <thead>\n",
       "    <tr style=\"text-align: right;\">\n",
       "      <th></th>\n",
       "      <th>Restaurant Name</th>\n",
       "      <th>Item Name</th>\n",
       "    </tr>\n",
       "  </thead>\n",
       "  <tbody>\n",
       "    <tr>\n",
       "      <th>0</th>\n",
       "      <td>Doner King</td>\n",
       "      <td>Platter Kebab Combo</td>\n",
       "    </tr>\n",
       "    <tr>\n",
       "      <th>1</th>\n",
       "      <td>Doner King</td>\n",
       "      <td>Chicken Rumali Shawarma</td>\n",
       "    </tr>\n",
       "    <tr>\n",
       "      <th>2</th>\n",
       "      <td>Doner King</td>\n",
       "      <td>Chicken Tandoori Salad</td>\n",
       "    </tr>\n",
       "    <tr>\n",
       "      <th>3</th>\n",
       "      <td>Doner King</td>\n",
       "      <td>Chicken BBQ Salad</td>\n",
       "    </tr>\n",
       "    <tr>\n",
       "      <th>4</th>\n",
       "      <td>Doner King</td>\n",
       "      <td>Special Doner Wrap Combo</td>\n",
       "    </tr>\n",
       "    <tr>\n",
       "      <th>...</th>\n",
       "      <td>...</td>\n",
       "      <td>...</td>\n",
       "    </tr>\n",
       "    <tr>\n",
       "      <th>123652</th>\n",
       "      <td>Ariena Boutique Hotel</td>\n",
       "      <td>Murgh Reshmi Kebab</td>\n",
       "    </tr>\n",
       "    <tr>\n",
       "      <th>123653</th>\n",
       "      <td>Ariena Boutique Hotel</td>\n",
       "      <td>Murgh Large Tikka</td>\n",
       "    </tr>\n",
       "    <tr>\n",
       "      <th>123654</th>\n",
       "      <td>Ariena Boutique Hotel</td>\n",
       "      <td>Murgh Chukandri Tikka</td>\n",
       "    </tr>\n",
       "    <tr>\n",
       "      <th>123655</th>\n",
       "      <td>Ariena Boutique Hotel</td>\n",
       "      <td>Murgh Golden Kebab</td>\n",
       "    </tr>\n",
       "    <tr>\n",
       "      <th>123656</th>\n",
       "      <td>Ariena Boutique Hotel</td>\n",
       "      <td>Gosht Gilawat Chop</td>\n",
       "    </tr>\n",
       "  </tbody>\n",
       "</table>\n",
       "<p>123657 rows × 2 columns</p>\n",
       "</div>"
      ],
      "text/plain": [
       "              Restaurant Name                 Item Name\n",
       "0                  Doner King       Platter Kebab Combo\n",
       "1                  Doner King   Chicken Rumali Shawarma\n",
       "2                  Doner King    Chicken Tandoori Salad\n",
       "3                  Doner King         Chicken BBQ Salad\n",
       "4                  Doner King  Special Doner Wrap Combo\n",
       "...                       ...                       ...\n",
       "123652  Ariena Boutique Hotel        Murgh Reshmi Kebab\n",
       "123653  Ariena Boutique Hotel         Murgh Large Tikka\n",
       "123654  Ariena Boutique Hotel     Murgh Chukandri Tikka\n",
       "123655  Ariena Boutique Hotel        Murgh Golden Kebab\n",
       "123656  Ariena Boutique Hotel        Gosht Gilawat Chop\n",
       "\n",
       "[123657 rows x 2 columns]"
      ]
     },
     "execution_count": 38,
     "metadata": {},
     "output_type": "execute_result"
    }
   ],
   "source": [
    "restaurant_Item_Names = df[[\"Restaurant Name\",\"Item Name\"]]\n",
    "restaurant_Item_Names\n"
   ]
  },
  {
   "cell_type": "markdown",
   "id": "c9ed8230",
   "metadata": {},
   "source": [
    "                    "
   ]
  },
  {
   "cell_type": "markdown",
   "id": "8778843f",
   "metadata": {},
   "source": [
    "                    "
   ]
  },
  {
   "cell_type": "markdown",
   "id": "ffb7e89d",
   "metadata": {},
   "source": [
    "Best Sellers of Restaurants"
   ]
  },
  {
   "cell_type": "code",
   "execution_count": 39,
   "id": "42b46dbb",
   "metadata": {
    "scrolled": false
   },
   "outputs": [
    {
     "data": {
      "text/html": [
       "<div>\n",
       "<style scoped>\n",
       "    .dataframe tbody tr th:only-of-type {\n",
       "        vertical-align: middle;\n",
       "    }\n",
       "\n",
       "    .dataframe tbody tr th {\n",
       "        vertical-align: top;\n",
       "    }\n",
       "\n",
       "    .dataframe thead th {\n",
       "        text-align: right;\n",
       "    }\n",
       "</style>\n",
       "<table border=\"1\" class=\"dataframe\">\n",
       "  <thead>\n",
       "    <tr style=\"text-align: right;\">\n",
       "      <th></th>\n",
       "      <th>Restaurant Name</th>\n",
       "      <th>Best Seller</th>\n",
       "    </tr>\n",
       "  </thead>\n",
       "  <tbody>\n",
       "    <tr>\n",
       "      <th>0</th>\n",
       "      <td>Doner King</td>\n",
       "      <td>BESTSELLER</td>\n",
       "    </tr>\n",
       "    <tr>\n",
       "      <th>1</th>\n",
       "      <td>Doner King</td>\n",
       "      <td>BESTSELLER</td>\n",
       "    </tr>\n",
       "    <tr>\n",
       "      <th>2</th>\n",
       "      <td>Doner King</td>\n",
       "      <td>NaN</td>\n",
       "    </tr>\n",
       "    <tr>\n",
       "      <th>3</th>\n",
       "      <td>Doner King</td>\n",
       "      <td>BESTSELLER</td>\n",
       "    </tr>\n",
       "    <tr>\n",
       "      <th>4</th>\n",
       "      <td>Doner King</td>\n",
       "      <td>MUST TRY</td>\n",
       "    </tr>\n",
       "    <tr>\n",
       "      <th>...</th>\n",
       "      <td>...</td>\n",
       "      <td>...</td>\n",
       "    </tr>\n",
       "    <tr>\n",
       "      <th>123652</th>\n",
       "      <td>Ariena Boutique Hotel</td>\n",
       "      <td>NaN</td>\n",
       "    </tr>\n",
       "    <tr>\n",
       "      <th>123653</th>\n",
       "      <td>Ariena Boutique Hotel</td>\n",
       "      <td>NaN</td>\n",
       "    </tr>\n",
       "    <tr>\n",
       "      <th>123654</th>\n",
       "      <td>Ariena Boutique Hotel</td>\n",
       "      <td>NaN</td>\n",
       "    </tr>\n",
       "    <tr>\n",
       "      <th>123655</th>\n",
       "      <td>Ariena Boutique Hotel</td>\n",
       "      <td>NaN</td>\n",
       "    </tr>\n",
       "    <tr>\n",
       "      <th>123656</th>\n",
       "      <td>Ariena Boutique Hotel</td>\n",
       "      <td>BESTSELLER</td>\n",
       "    </tr>\n",
       "  </tbody>\n",
       "</table>\n",
       "<p>123657 rows × 2 columns</p>\n",
       "</div>"
      ],
      "text/plain": [
       "              Restaurant Name Best Seller\n",
       "0                  Doner King  BESTSELLER\n",
       "1                  Doner King  BESTSELLER\n",
       "2                  Doner King         NaN\n",
       "3                  Doner King  BESTSELLER\n",
       "4                  Doner King    MUST TRY\n",
       "...                       ...         ...\n",
       "123652  Ariena Boutique Hotel         NaN\n",
       "123653  Ariena Boutique Hotel         NaN\n",
       "123654  Ariena Boutique Hotel         NaN\n",
       "123655  Ariena Boutique Hotel         NaN\n",
       "123656  Ariena Boutique Hotel  BESTSELLER\n",
       "\n",
       "[123657 rows x 2 columns]"
      ]
     },
     "execution_count": 39,
     "metadata": {},
     "output_type": "execute_result"
    }
   ],
   "source": [
    "restaurant_best_seller = df[[\"Restaurant Name\", \"Best Seller\"]]\n",
    "restaurant_best_seller"
   ]
  },
  {
   "cell_type": "markdown",
   "id": "20af5f42",
   "metadata": {},
   "source": [
    "                "
   ]
  },
  {
   "cell_type": "markdown",
   "id": "0298a83a",
   "metadata": {},
   "source": [
    "                    "
   ]
  },
  {
   "cell_type": "markdown",
   "id": "9d97af85",
   "metadata": {},
   "source": [
    "Prices of favorite items of restaurants"
   ]
  },
  {
   "cell_type": "code",
   "execution_count": 44,
   "id": "465e5139",
   "metadata": {
    "scrolled": false
   },
   "outputs": [
    {
     "data": {
      "text/html": [
       "<div>\n",
       "<style scoped>\n",
       "    .dataframe tbody tr th:only-of-type {\n",
       "        vertical-align: middle;\n",
       "    }\n",
       "\n",
       "    .dataframe tbody tr th {\n",
       "        vertical-align: top;\n",
       "    }\n",
       "\n",
       "    .dataframe thead th {\n",
       "        text-align: right;\n",
       "    }\n",
       "</style>\n",
       "<table border=\"1\" class=\"dataframe\">\n",
       "  <thead>\n",
       "    <tr style=\"text-align: right;\">\n",
       "      <th></th>\n",
       "      <th>Restaurant Name</th>\n",
       "      <th>Item Name</th>\n",
       "      <th>Prices</th>\n",
       "    </tr>\n",
       "  </thead>\n",
       "  <tbody>\n",
       "    <tr>\n",
       "      <th>0</th>\n",
       "      <td>Doner King</td>\n",
       "      <td>Platter Kebab Combo</td>\n",
       "      <td>249.0</td>\n",
       "    </tr>\n",
       "    <tr>\n",
       "      <th>1</th>\n",
       "      <td>Doner King</td>\n",
       "      <td>Chicken Rumali Shawarma</td>\n",
       "      <td>129.0</td>\n",
       "    </tr>\n",
       "    <tr>\n",
       "      <th>2</th>\n",
       "      <td>Doner King</td>\n",
       "      <td>Chicken Tandoori Salad</td>\n",
       "      <td>189.0</td>\n",
       "    </tr>\n",
       "    <tr>\n",
       "      <th>3</th>\n",
       "      <td>Doner King</td>\n",
       "      <td>Chicken BBQ Salad</td>\n",
       "      <td>189.0</td>\n",
       "    </tr>\n",
       "    <tr>\n",
       "      <th>4</th>\n",
       "      <td>Doner King</td>\n",
       "      <td>Special Doner Wrap Combo</td>\n",
       "      <td>205.0</td>\n",
       "    </tr>\n",
       "    <tr>\n",
       "      <th>...</th>\n",
       "      <td>...</td>\n",
       "      <td>...</td>\n",
       "      <td>...</td>\n",
       "    </tr>\n",
       "    <tr>\n",
       "      <th>123652</th>\n",
       "      <td>Ariena Boutique Hotel</td>\n",
       "      <td>Murgh Reshmi Kebab</td>\n",
       "      <td>525.0</td>\n",
       "    </tr>\n",
       "    <tr>\n",
       "      <th>123653</th>\n",
       "      <td>Ariena Boutique Hotel</td>\n",
       "      <td>Murgh Large Tikka</td>\n",
       "      <td>525.0</td>\n",
       "    </tr>\n",
       "    <tr>\n",
       "      <th>123654</th>\n",
       "      <td>Ariena Boutique Hotel</td>\n",
       "      <td>Murgh Chukandri Tikka</td>\n",
       "      <td>525.0</td>\n",
       "    </tr>\n",
       "    <tr>\n",
       "      <th>123655</th>\n",
       "      <td>Ariena Boutique Hotel</td>\n",
       "      <td>Murgh Golden Kebab</td>\n",
       "      <td>525.0</td>\n",
       "    </tr>\n",
       "    <tr>\n",
       "      <th>123656</th>\n",
       "      <td>Ariena Boutique Hotel</td>\n",
       "      <td>Gosht Gilawat Chop</td>\n",
       "      <td>595.0</td>\n",
       "    </tr>\n",
       "  </tbody>\n",
       "</table>\n",
       "<p>123657 rows × 3 columns</p>\n",
       "</div>"
      ],
      "text/plain": [
       "              Restaurant Name                 Item Name  Prices\n",
       "0                  Doner King       Platter Kebab Combo   249.0\n",
       "1                  Doner King   Chicken Rumali Shawarma   129.0\n",
       "2                  Doner King    Chicken Tandoori Salad   189.0\n",
       "3                  Doner King         Chicken BBQ Salad   189.0\n",
       "4                  Doner King  Special Doner Wrap Combo   205.0\n",
       "...                       ...                       ...     ...\n",
       "123652  Ariena Boutique Hotel        Murgh Reshmi Kebab   525.0\n",
       "123653  Ariena Boutique Hotel         Murgh Large Tikka   525.0\n",
       "123654  Ariena Boutique Hotel     Murgh Chukandri Tikka   525.0\n",
       "123655  Ariena Boutique Hotel        Murgh Golden Kebab   525.0\n",
       "123656  Ariena Boutique Hotel        Gosht Gilawat Chop   595.0\n",
       "\n",
       "[123657 rows x 3 columns]"
      ]
     },
     "execution_count": 44,
     "metadata": {},
     "output_type": "execute_result"
    }
   ],
   "source": [
    "restaurant_Price = df[[\"Restaurant Name\",\"Item Name\",\"Prices\"]]\n",
    "restaurant_Price"
   ]
  },
  {
   "cell_type": "markdown",
   "id": "a8a83511",
   "metadata": {},
   "source": [
    "                    "
   ]
  },
  {
   "cell_type": "markdown",
   "id": "838b5dc6",
   "metadata": {},
   "source": [
    "                        "
   ]
  },
  {
   "cell_type": "markdown",
   "id": "e82d7423",
   "metadata": {},
   "source": [
    "After making a general analysis, we can move on to the detailed analysis with the data we have."
   ]
  },
  {
   "cell_type": "code",
   "execution_count": 45,
   "id": "4084d26f",
   "metadata": {
    "scrolled": false
   },
   "outputs": [
    {
     "data": {
      "text/html": [
       "<div>\n",
       "<style scoped>\n",
       "    .dataframe tbody tr th:only-of-type {\n",
       "        vertical-align: middle;\n",
       "    }\n",
       "\n",
       "    .dataframe tbody tr th {\n",
       "        vertical-align: top;\n",
       "    }\n",
       "\n",
       "    .dataframe thead th {\n",
       "        text-align: right;\n",
       "    }\n",
       "</style>\n",
       "<table border=\"1\" class=\"dataframe\">\n",
       "  <thead>\n",
       "    <tr style=\"text-align: right;\">\n",
       "      <th></th>\n",
       "      <th>Restaurant Name</th>\n",
       "      <th>Dining Rating</th>\n",
       "      <th>Delivery Rating</th>\n",
       "      <th>Dining Votes</th>\n",
       "      <th>Delivery Votes</th>\n",
       "      <th>Cuisine</th>\n",
       "      <th>Place Name</th>\n",
       "      <th>City</th>\n",
       "      <th>Item Name</th>\n",
       "      <th>Best Seller</th>\n",
       "      <th>Votes</th>\n",
       "      <th>Prices</th>\n",
       "    </tr>\n",
       "  </thead>\n",
       "  <tbody>\n",
       "    <tr>\n",
       "      <th>0</th>\n",
       "      <td>Doner King</td>\n",
       "      <td>3.9</td>\n",
       "      <td>4.2</td>\n",
       "      <td>39</td>\n",
       "      <td>0</td>\n",
       "      <td>Fast Food</td>\n",
       "      <td>Malakpet</td>\n",
       "      <td>Hyderabad</td>\n",
       "      <td>Platter Kebab Combo</td>\n",
       "      <td>BESTSELLER</td>\n",
       "      <td>84</td>\n",
       "      <td>249.0</td>\n",
       "    </tr>\n",
       "    <tr>\n",
       "      <th>1</th>\n",
       "      <td>Doner King</td>\n",
       "      <td>3.9</td>\n",
       "      <td>4.2</td>\n",
       "      <td>39</td>\n",
       "      <td>0</td>\n",
       "      <td>Fast Food</td>\n",
       "      <td>Malakpet</td>\n",
       "      <td>Hyderabad</td>\n",
       "      <td>Chicken Rumali Shawarma</td>\n",
       "      <td>BESTSELLER</td>\n",
       "      <td>45</td>\n",
       "      <td>129.0</td>\n",
       "    </tr>\n",
       "    <tr>\n",
       "      <th>2</th>\n",
       "      <td>Doner King</td>\n",
       "      <td>3.9</td>\n",
       "      <td>4.2</td>\n",
       "      <td>39</td>\n",
       "      <td>0</td>\n",
       "      <td>Fast Food</td>\n",
       "      <td>Malakpet</td>\n",
       "      <td>Hyderabad</td>\n",
       "      <td>Chicken Tandoori Salad</td>\n",
       "      <td>NaN</td>\n",
       "      <td>39</td>\n",
       "      <td>189.0</td>\n",
       "    </tr>\n",
       "    <tr>\n",
       "      <th>3</th>\n",
       "      <td>Doner King</td>\n",
       "      <td>3.9</td>\n",
       "      <td>4.2</td>\n",
       "      <td>39</td>\n",
       "      <td>0</td>\n",
       "      <td>Fast Food</td>\n",
       "      <td>Malakpet</td>\n",
       "      <td>Hyderabad</td>\n",
       "      <td>Chicken BBQ Salad</td>\n",
       "      <td>BESTSELLER</td>\n",
       "      <td>43</td>\n",
       "      <td>189.0</td>\n",
       "    </tr>\n",
       "    <tr>\n",
       "      <th>4</th>\n",
       "      <td>Doner King</td>\n",
       "      <td>3.9</td>\n",
       "      <td>4.2</td>\n",
       "      <td>39</td>\n",
       "      <td>0</td>\n",
       "      <td>Fast Food</td>\n",
       "      <td>Malakpet</td>\n",
       "      <td>Hyderabad</td>\n",
       "      <td>Special Doner Wrap Combo</td>\n",
       "      <td>MUST TRY</td>\n",
       "      <td>31</td>\n",
       "      <td>205.0</td>\n",
       "    </tr>\n",
       "    <tr>\n",
       "      <th>...</th>\n",
       "      <td>...</td>\n",
       "      <td>...</td>\n",
       "      <td>...</td>\n",
       "      <td>...</td>\n",
       "      <td>...</td>\n",
       "      <td>...</td>\n",
       "      <td>...</td>\n",
       "      <td>...</td>\n",
       "      <td>...</td>\n",
       "      <td>...</td>\n",
       "      <td>...</td>\n",
       "      <td>...</td>\n",
       "    </tr>\n",
       "    <tr>\n",
       "      <th>123652</th>\n",
       "      <td>Ariena Boutique Hotel</td>\n",
       "      <td>3.9</td>\n",
       "      <td>4.2</td>\n",
       "      <td>13</td>\n",
       "      <td>523</td>\n",
       "      <td>Pizza</td>\n",
       "      <td>Purena</td>\n",
       "      <td>Raipur</td>\n",
       "      <td>Murgh Reshmi Kebab</td>\n",
       "      <td>NaN</td>\n",
       "      <td>0</td>\n",
       "      <td>525.0</td>\n",
       "    </tr>\n",
       "    <tr>\n",
       "      <th>123653</th>\n",
       "      <td>Ariena Boutique Hotel</td>\n",
       "      <td>3.9</td>\n",
       "      <td>4.2</td>\n",
       "      <td>13</td>\n",
       "      <td>523</td>\n",
       "      <td>Pizza</td>\n",
       "      <td>Purena</td>\n",
       "      <td>Raipur</td>\n",
       "      <td>Murgh Large Tikka</td>\n",
       "      <td>NaN</td>\n",
       "      <td>0</td>\n",
       "      <td>525.0</td>\n",
       "    </tr>\n",
       "    <tr>\n",
       "      <th>123654</th>\n",
       "      <td>Ariena Boutique Hotel</td>\n",
       "      <td>3.9</td>\n",
       "      <td>4.2</td>\n",
       "      <td>13</td>\n",
       "      <td>523</td>\n",
       "      <td>Pizza</td>\n",
       "      <td>Purena</td>\n",
       "      <td>Raipur</td>\n",
       "      <td>Murgh Chukandri Tikka</td>\n",
       "      <td>NaN</td>\n",
       "      <td>0</td>\n",
       "      <td>525.0</td>\n",
       "    </tr>\n",
       "    <tr>\n",
       "      <th>123655</th>\n",
       "      <td>Ariena Boutique Hotel</td>\n",
       "      <td>3.9</td>\n",
       "      <td>4.2</td>\n",
       "      <td>13</td>\n",
       "      <td>523</td>\n",
       "      <td>Pizza</td>\n",
       "      <td>Purena</td>\n",
       "      <td>Raipur</td>\n",
       "      <td>Murgh Golden Kebab</td>\n",
       "      <td>NaN</td>\n",
       "      <td>0</td>\n",
       "      <td>525.0</td>\n",
       "    </tr>\n",
       "    <tr>\n",
       "      <th>123656</th>\n",
       "      <td>Ariena Boutique Hotel</td>\n",
       "      <td>3.9</td>\n",
       "      <td>4.2</td>\n",
       "      <td>13</td>\n",
       "      <td>523</td>\n",
       "      <td>Pizza</td>\n",
       "      <td>Purena</td>\n",
       "      <td>Raipur</td>\n",
       "      <td>Gosht Gilawat Chop</td>\n",
       "      <td>BESTSELLER</td>\n",
       "      <td>0</td>\n",
       "      <td>595.0</td>\n",
       "    </tr>\n",
       "  </tbody>\n",
       "</table>\n",
       "<p>123657 rows × 12 columns</p>\n",
       "</div>"
      ],
      "text/plain": [
       "              Restaurant Name  Dining Rating  Delivery Rating  Dining Votes  \\\n",
       "0                  Doner King            3.9              4.2            39   \n",
       "1                  Doner King            3.9              4.2            39   \n",
       "2                  Doner King            3.9              4.2            39   \n",
       "3                  Doner King            3.9              4.2            39   \n",
       "4                  Doner King            3.9              4.2            39   \n",
       "...                       ...            ...              ...           ...   \n",
       "123652  Ariena Boutique Hotel            3.9              4.2            13   \n",
       "123653  Ariena Boutique Hotel            3.9              4.2            13   \n",
       "123654  Ariena Boutique Hotel            3.9              4.2            13   \n",
       "123655  Ariena Boutique Hotel            3.9              4.2            13   \n",
       "123656  Ariena Boutique Hotel            3.9              4.2            13   \n",
       "\n",
       "        Delivery Votes   Cuisine  Place Name        City  \\\n",
       "0                    0  Fast Food   Malakpet   Hyderabad   \n",
       "1                    0  Fast Food   Malakpet   Hyderabad   \n",
       "2                    0  Fast Food   Malakpet   Hyderabad   \n",
       "3                    0  Fast Food   Malakpet   Hyderabad   \n",
       "4                    0  Fast Food   Malakpet   Hyderabad   \n",
       "...                ...        ...        ...         ...   \n",
       "123652             523      Pizza     Purena      Raipur   \n",
       "123653             523      Pizza     Purena      Raipur   \n",
       "123654             523      Pizza     Purena      Raipur   \n",
       "123655             523      Pizza     Purena      Raipur   \n",
       "123656             523      Pizza     Purena      Raipur   \n",
       "\n",
       "                       Item Name Best Seller  Votes  Prices  \n",
       "0            Platter Kebab Combo  BESTSELLER     84   249.0  \n",
       "1        Chicken Rumali Shawarma  BESTSELLER     45   129.0  \n",
       "2         Chicken Tandoori Salad         NaN     39   189.0  \n",
       "3              Chicken BBQ Salad  BESTSELLER     43   189.0  \n",
       "4       Special Doner Wrap Combo    MUST TRY     31   205.0  \n",
       "...                          ...         ...    ...     ...  \n",
       "123652        Murgh Reshmi Kebab         NaN      0   525.0  \n",
       "123653         Murgh Large Tikka         NaN      0   525.0  \n",
       "123654     Murgh Chukandri Tikka         NaN      0   525.0  \n",
       "123655        Murgh Golden Kebab         NaN      0   525.0  \n",
       "123656        Gosht Gilawat Chop  BESTSELLER      0   595.0  \n",
       "\n",
       "[123657 rows x 12 columns]"
      ]
     },
     "execution_count": 45,
     "metadata": {},
     "output_type": "execute_result"
    }
   ],
   "source": [
    "df = pd.read_csv(\"zomato_dataset.csv\")\n",
    "df"
   ]
  },
  {
   "cell_type": "markdown",
   "id": "7095a0a5",
   "metadata": {},
   "source": [
    "                "
   ]
  },
  {
   "cell_type": "markdown",
   "id": "81e5ae77",
   "metadata": {},
   "source": [
    "                "
   ]
  },
  {
   "cell_type": "markdown",
   "id": "67ea79ea",
   "metadata": {},
   "source": [
    "# Restaurant Statistics\n"
   ]
  },
  {
   "cell_type": "code",
   "execution_count": 311,
   "id": "b0cdfff7",
   "metadata": {},
   "outputs": [
    {
     "name": "stdout",
     "output_type": "stream",
     "text": [
      "Toplam Restoran Sayısı: 123657\n"
     ]
    }
   ],
   "source": [
    "#Total Number of Restaurants\n",
    "total_restaurants=len(zomato_data)\n",
    "print(\"Toplam Restoran Sayısı:\",total_restaurants)"
   ]
  },
  {
   "cell_type": "markdown",
   "id": "342003af",
   "metadata": {},
   "source": [
    "                "
   ]
  },
  {
   "cell_type": "markdown",
   "id": "26af628b",
   "metadata": {},
   "source": [
    "            "
   ]
  },
  {
   "cell_type": "code",
   "execution_count": 312,
   "id": "747d06ac",
   "metadata": {},
   "outputs": [
    {
     "name": "stdout",
     "output_type": "stream",
     "text": [
      "Ortalama Dining Rating 3.822264031240087\n",
      "Ortalama Delivery Rating 3.9631842584799433\n"
     ]
    }
   ],
   "source": [
    "#Average Dining Rating and Delivery Rating\n",
    "average_dining_rating = zomato_data[\"Dining Rating\"].mean()\n",
    "average_delivery_Rating = zomato_data[\"Delivery Rating\"].mean()\n",
    "print(\"Ortalama Dining Rating\",average_dining_rating)\n",
    "print(\"Ortalama Delivery Rating\",average_delivery_Rating)\n",
    "\n",
    "\n",
    "\n"
   ]
  },
  {
   "cell_type": "markdown",
   "id": "096ebb14",
   "metadata": {},
   "source": [
    "                "
   ]
  },
  {
   "cell_type": "markdown",
   "id": "01dff44b",
   "metadata": {},
   "source": [
    "                        "
   ]
  },
  {
   "cell_type": "code",
   "execution_count": 313,
   "id": "752ce800",
   "metadata": {},
   "outputs": [
    {
     "name": "stdout",
     "output_type": "stream",
     "text": [
      "En iyi Dereceli Restorantlar:\n",
      "En kötü Dereceli Restorantlar:\n"
     ]
    },
    {
     "data": {
      "text/html": [
       "<div>\n",
       "<style scoped>\n",
       "    .dataframe tbody tr th:only-of-type {\n",
       "        vertical-align: middle;\n",
       "    }\n",
       "\n",
       "    .dataframe tbody tr th {\n",
       "        vertical-align: top;\n",
       "    }\n",
       "\n",
       "    .dataframe thead th {\n",
       "        text-align: right;\n",
       "    }\n",
       "</style>\n",
       "<table border=\"1\" class=\"dataframe\">\n",
       "  <thead>\n",
       "    <tr style=\"text-align: right;\">\n",
       "      <th></th>\n",
       "      <th>Restaurant Name</th>\n",
       "      <th>Dining Rating</th>\n",
       "      <th>Delivery Rating</th>\n",
       "      <th>Dining Votes</th>\n",
       "      <th>Delivery Votes</th>\n",
       "      <th>Cuisine</th>\n",
       "      <th>Place Name</th>\n",
       "      <th>City</th>\n",
       "      <th>Item Name</th>\n",
       "      <th>Best Seller</th>\n",
       "      <th>Votes</th>\n",
       "      <th>Prices</th>\n",
       "    </tr>\n",
       "  </thead>\n",
       "  <tbody>\n",
       "    <tr>\n",
       "      <th>66634</th>\n",
       "      <td>La Pino'z Pizza</td>\n",
       "      <td>2.5</td>\n",
       "      <td>3.9</td>\n",
       "      <td>26</td>\n",
       "      <td>0</td>\n",
       "      <td>Fast Food</td>\n",
       "      <td>Basavanagudi</td>\n",
       "      <td>Bangalore</td>\n",
       "      <td>Sweet Corns Pizza</td>\n",
       "      <td>BESTSELLER</td>\n",
       "      <td>177</td>\n",
       "      <td>109.0</td>\n",
       "    </tr>\n",
       "    <tr>\n",
       "      <th>66635</th>\n",
       "      <td>La Pino'z Pizza</td>\n",
       "      <td>2.5</td>\n",
       "      <td>3.9</td>\n",
       "      <td>26</td>\n",
       "      <td>0</td>\n",
       "      <td>Fast Food</td>\n",
       "      <td>Basavanagudi</td>\n",
       "      <td>Bangalore</td>\n",
       "      <td>Margherita Pizza</td>\n",
       "      <td>BESTSELLER</td>\n",
       "      <td>234</td>\n",
       "      <td>145.0</td>\n",
       "    </tr>\n",
       "    <tr>\n",
       "      <th>66636</th>\n",
       "      <td>La Pino'z Pizza</td>\n",
       "      <td>2.5</td>\n",
       "      <td>3.9</td>\n",
       "      <td>26</td>\n",
       "      <td>0</td>\n",
       "      <td>Fast Food</td>\n",
       "      <td>Basavanagudi</td>\n",
       "      <td>Bangalore</td>\n",
       "      <td>Onions Pizza</td>\n",
       "      <td>BESTSELLER</td>\n",
       "      <td>261</td>\n",
       "      <td>89.0</td>\n",
       "    </tr>\n",
       "    <tr>\n",
       "      <th>66637</th>\n",
       "      <td>La Pino'z Pizza</td>\n",
       "      <td>2.5</td>\n",
       "      <td>3.9</td>\n",
       "      <td>26</td>\n",
       "      <td>0</td>\n",
       "      <td>Fast Food</td>\n",
       "      <td>Basavanagudi</td>\n",
       "      <td>Bangalore</td>\n",
       "      <td>Farm Villa Pizza</td>\n",
       "      <td>BESTSELLER</td>\n",
       "      <td>196</td>\n",
       "      <td>235.0</td>\n",
       "    </tr>\n",
       "    <tr>\n",
       "      <th>66638</th>\n",
       "      <td>La Pino'z Pizza</td>\n",
       "      <td>2.5</td>\n",
       "      <td>3.9</td>\n",
       "      <td>26</td>\n",
       "      <td>0</td>\n",
       "      <td>Fast Food</td>\n",
       "      <td>Basavanagudi</td>\n",
       "      <td>Bangalore</td>\n",
       "      <td>Americano White Sauce Pasta Veg</td>\n",
       "      <td>BESTSELLER</td>\n",
       "      <td>122</td>\n",
       "      <td>195.0</td>\n",
       "    </tr>\n",
       "    <tr>\n",
       "      <th>...</th>\n",
       "      <td>...</td>\n",
       "      <td>...</td>\n",
       "      <td>...</td>\n",
       "      <td>...</td>\n",
       "      <td>...</td>\n",
       "      <td>...</td>\n",
       "      <td>...</td>\n",
       "      <td>...</td>\n",
       "      <td>...</td>\n",
       "      <td>...</td>\n",
       "      <td>...</td>\n",
       "      <td>...</td>\n",
       "    </tr>\n",
       "    <tr>\n",
       "      <th>79891</th>\n",
       "      <td>Domino's Pizza</td>\n",
       "      <td>2.5</td>\n",
       "      <td>4.0</td>\n",
       "      <td>14</td>\n",
       "      <td>0</td>\n",
       "      <td>Desserts</td>\n",
       "      <td>Rasta Peth</td>\n",
       "      <td>Pune</td>\n",
       "      <td>Meal for 4: Veg Chessy Pizza</td>\n",
       "      <td>Not eligible for coupons</td>\n",
       "      <td>0</td>\n",
       "      <td>749.0</td>\n",
       "    </tr>\n",
       "    <tr>\n",
       "      <th>79892</th>\n",
       "      <td>Domino's Pizza</td>\n",
       "      <td>2.5</td>\n",
       "      <td>4.0</td>\n",
       "      <td>14</td>\n",
       "      <td>0</td>\n",
       "      <td>Desserts</td>\n",
       "      <td>Rasta Peth</td>\n",
       "      <td>Pune</td>\n",
       "      <td>Meal for 4: Veg Loaded Pizza</td>\n",
       "      <td>Not eligible for coupons</td>\n",
       "      <td>0</td>\n",
       "      <td>899.0</td>\n",
       "    </tr>\n",
       "    <tr>\n",
       "      <th>79893</th>\n",
       "      <td>Domino's Pizza</td>\n",
       "      <td>2.5</td>\n",
       "      <td>4.0</td>\n",
       "      <td>14</td>\n",
       "      <td>0</td>\n",
       "      <td>Desserts</td>\n",
       "      <td>Rasta Peth</td>\n",
       "      <td>Pune</td>\n",
       "      <td>Meal for 4: Margherita &amp; Peppy Paneer</td>\n",
       "      <td>Not eligible for coupons</td>\n",
       "      <td>0</td>\n",
       "      <td>739.0</td>\n",
       "    </tr>\n",
       "    <tr>\n",
       "      <th>79894</th>\n",
       "      <td>Domino's Pizza</td>\n",
       "      <td>2.5</td>\n",
       "      <td>4.0</td>\n",
       "      <td>14</td>\n",
       "      <td>0</td>\n",
       "      <td>Desserts</td>\n",
       "      <td>Rasta Peth</td>\n",
       "      <td>Pune</td>\n",
       "      <td>Meal for 4: Feast Veg Extravanga &amp; Indo Tandoo...</td>\n",
       "      <td>Not eligible for coupons</td>\n",
       "      <td>0</td>\n",
       "      <td>1059.0</td>\n",
       "    </tr>\n",
       "    <tr>\n",
       "      <th>79895</th>\n",
       "      <td>Domino's Pizza</td>\n",
       "      <td>2.5</td>\n",
       "      <td>4.0</td>\n",
       "      <td>14</td>\n",
       "      <td>0</td>\n",
       "      <td>Desserts</td>\n",
       "      <td>Rasta Peth</td>\n",
       "      <td>Pune</td>\n",
       "      <td>Meal for 4: Non Veg Pizza Mania Value</td>\n",
       "      <td>Not eligible for coupons</td>\n",
       "      <td>0</td>\n",
       "      <td>449.0</td>\n",
       "    </tr>\n",
       "  </tbody>\n",
       "</table>\n",
       "<p>332 rows × 12 columns</p>\n",
       "</div>"
      ],
      "text/plain": [
       "       Restaurant Name  Dining Rating  Delivery Rating  Dining Votes  \\\n",
       "66634  La Pino'z Pizza            2.5              3.9            26   \n",
       "66635  La Pino'z Pizza            2.5              3.9            26   \n",
       "66636  La Pino'z Pizza            2.5              3.9            26   \n",
       "66637  La Pino'z Pizza            2.5              3.9            26   \n",
       "66638  La Pino'z Pizza            2.5              3.9            26   \n",
       "...                ...            ...              ...           ...   \n",
       "79891   Domino's Pizza            2.5              4.0            14   \n",
       "79892   Domino's Pizza            2.5              4.0            14   \n",
       "79893   Domino's Pizza            2.5              4.0            14   \n",
       "79894   Domino's Pizza            2.5              4.0            14   \n",
       "79895   Domino's Pizza            2.5              4.0            14   \n",
       "\n",
       "       Delivery Votes   Cuisine     Place Name        City  \\\n",
       "66634               0  Fast Food  Basavanagudi   Bangalore   \n",
       "66635               0  Fast Food  Basavanagudi   Bangalore   \n",
       "66636               0  Fast Food  Basavanagudi   Bangalore   \n",
       "66637               0  Fast Food  Basavanagudi   Bangalore   \n",
       "66638               0  Fast Food  Basavanagudi   Bangalore   \n",
       "...               ...        ...           ...         ...   \n",
       "79891               0   Desserts    Rasta Peth        Pune   \n",
       "79892               0   Desserts    Rasta Peth        Pune   \n",
       "79893               0   Desserts    Rasta Peth        Pune   \n",
       "79894               0   Desserts    Rasta Peth        Pune   \n",
       "79895               0   Desserts    Rasta Peth        Pune   \n",
       "\n",
       "                                               Item Name  \\\n",
       "66634                                  Sweet Corns Pizza   \n",
       "66635                                   Margherita Pizza   \n",
       "66636                                       Onions Pizza   \n",
       "66637                                   Farm Villa Pizza   \n",
       "66638                    Americano White Sauce Pasta Veg   \n",
       "...                                                  ...   \n",
       "79891                       Meal for 4: Veg Chessy Pizza   \n",
       "79892                       Meal for 4: Veg Loaded Pizza   \n",
       "79893              Meal for 4: Margherita & Peppy Paneer   \n",
       "79894  Meal for 4: Feast Veg Extravanga & Indo Tandoo...   \n",
       "79895              Meal for 4: Non Veg Pizza Mania Value   \n",
       "\n",
       "                    Best Seller  Votes  Prices  \n",
       "66634                BESTSELLER    177   109.0  \n",
       "66635                BESTSELLER    234   145.0  \n",
       "66636                BESTSELLER    261    89.0  \n",
       "66637                BESTSELLER    196   235.0  \n",
       "66638                BESTSELLER    122   195.0  \n",
       "...                         ...    ...     ...  \n",
       "79891  Not eligible for coupons      0   749.0  \n",
       "79892  Not eligible for coupons      0   899.0  \n",
       "79893  Not eligible for coupons      0   739.0  \n",
       "79894  Not eligible for coupons      0  1059.0  \n",
       "79895  Not eligible for coupons      0   449.0  \n",
       "\n",
       "[332 rows x 12 columns]"
      ]
     },
     "execution_count": 313,
     "metadata": {},
     "output_type": "execute_result"
    }
   ],
   "source": [
    "#Best and Worst Ranked Restaurants\n",
    "best_rated_restaurants = zomato_data[zomato_data[\"Dining Rating\"] == zomato_data[\"Dining Rating\"].max()]\n",
    "worst_rated_restaurants = zomato_data[zomato_data[\"Dining Rating\"] == zomato_data[\"Dining Rating\"].min()]\n",
    "print(\"En iyi Dereceli Restorantlar:\")\n",
    "best_rated_restaurants\n",
    "print(\"En kötü Dereceli Restorantlar:\")\n",
    "worst_rated_restaurants"
   ]
  },
  {
   "cell_type": "markdown",
   "id": "248d8b38",
   "metadata": {},
   "source": [
    "                "
   ]
  },
  {
   "cell_type": "markdown",
   "id": "1816b986",
   "metadata": {},
   "source": [
    "            "
   ]
  },
  {
   "cell_type": "code",
   "execution_count": 314,
   "id": "16003630",
   "metadata": {
    "scrolled": true
   },
   "outputs": [
    {
     "name": "stdout",
     "output_type": "stream",
     "text": [
      "En popüler mutfak türleri:\n"
     ]
    },
    {
     "data": {
      "text/plain": [
       "Beverages        39441\n",
       "Pizza            15044\n",
       "Fast Food        11878\n",
       "Desserts         11773\n",
       "Chinese           6046\n",
       "Sichuan           5461\n",
       "Biryani           4100\n",
       "Shake             3321\n",
       "North Indian      3274\n",
       "Street Food       2875\n",
       "Rolls             1983\n",
       "South Indian      1825\n",
       "Seafood           1639\n",
       "Mughlai           1136\n",
       "Ice Cream         1122\n",
       "Bakery            1041\n",
       "Momos             1005\n",
       "Kebab              867\n",
       "BBQ                832\n",
       "Burger             792\n",
       "Gujarati           713\n",
       "Juices             673\n",
       "Sandwich           605\n",
       "Continental        568\n",
       "Mithai             551\n",
       "Coffee             524\n",
       "Mandi              435\n",
       "Hyderabadi         388\n",
       "Kerala             381\n",
       "Salad              380\n",
       "American           371\n",
       "Maharashtrian      354\n",
       "Pasta              335\n",
       "Kathiyawadi        294\n",
       "Lucknowi           215\n",
       "Healthy Food       204\n",
       "Italian            203\n",
       "Rajasthani         202\n",
       "Shawarma           196\n",
       "Mexican            185\n",
       "Wraps              178\n",
       "Andhra             127\n",
       "Awadhi              56\n",
       "Turkish             22\n",
       "Tibetan             20\n",
       "Tea                 14\n",
       "Thai                 4\n",
       "Vietnamese           4\n",
       "Name: Cuisine , dtype: int64"
      ]
     },
     "execution_count": 314,
     "metadata": {},
     "output_type": "execute_result"
    }
   ],
   "source": [
    "#Most Popular types of cuisine\n",
    "popular_cuisines = zomato_data[\"Cuisine \"].value_counts()\n",
    "print(\"En popüler mutfak türleri:\")\n",
    "popular_cuisines"
   ]
  },
  {
   "cell_type": "markdown",
   "id": "a4bb0373",
   "metadata": {},
   "source": [
    "                    "
   ]
  },
  {
   "cell_type": "markdown",
   "id": "a1edbdc2",
   "metadata": {},
   "source": [
    "                    "
   ]
  },
  {
   "cell_type": "code",
   "execution_count": 315,
   "id": "51058575",
   "metadata": {
    "scrolled": true
   },
   "outputs": [
    {
     "name": "stdout",
     "output_type": "stream",
     "text": [
      "Ortalama Oy Sayılarına Göre En Popüler Restorantlar:\n",
      "\n",
      "\n",
      "\n",
      "\n",
      "Ortalama Oy Sayılarına Göre En Az Popüler Restoranlar:\n"
     ]
    },
    {
     "data": {
      "text/html": [
       "<div>\n",
       "<style scoped>\n",
       "    .dataframe tbody tr th:only-of-type {\n",
       "        vertical-align: middle;\n",
       "    }\n",
       "\n",
       "    .dataframe tbody tr th {\n",
       "        vertical-align: top;\n",
       "    }\n",
       "\n",
       "    .dataframe thead th {\n",
       "        text-align: right;\n",
       "    }\n",
       "</style>\n",
       "<table border=\"1\" class=\"dataframe\">\n",
       "  <thead>\n",
       "    <tr style=\"text-align: right;\">\n",
       "      <th></th>\n",
       "      <th>Restaurant Name</th>\n",
       "      <th>Dining Rating</th>\n",
       "      <th>Delivery Rating</th>\n",
       "      <th>Dining Votes</th>\n",
       "      <th>Delivery Votes</th>\n",
       "      <th>Cuisine</th>\n",
       "      <th>Place Name</th>\n",
       "      <th>City</th>\n",
       "      <th>Item Name</th>\n",
       "      <th>Best Seller</th>\n",
       "      <th>Votes</th>\n",
       "      <th>Prices</th>\n",
       "    </tr>\n",
       "  </thead>\n",
       "  <tbody>\n",
       "    <tr>\n",
       "      <th>37</th>\n",
       "      <td>Doner King</td>\n",
       "      <td>3.9</td>\n",
       "      <td>4.2</td>\n",
       "      <td>39</td>\n",
       "      <td>0</td>\n",
       "      <td>Fast Food</td>\n",
       "      <td>Malakpet</td>\n",
       "      <td>Hyderabad</td>\n",
       "      <td>Special Fish Tortilla Wrap</td>\n",
       "      <td>CHEF'S SPECIAL</td>\n",
       "      <td>0</td>\n",
       "      <td>165.0</td>\n",
       "    </tr>\n",
       "    <tr>\n",
       "      <th>167</th>\n",
       "      <td>BrownBear</td>\n",
       "      <td>3.6</td>\n",
       "      <td>4.0</td>\n",
       "      <td>239</td>\n",
       "      <td>0</td>\n",
       "      <td>Fast Food</td>\n",
       "      <td>Himayath Nagar</td>\n",
       "      <td>Hyderabad</td>\n",
       "      <td>Chocolate Tin Cake</td>\n",
       "      <td>BESTSELLER</td>\n",
       "      <td>0</td>\n",
       "      <td>800.0</td>\n",
       "    </tr>\n",
       "    <tr>\n",
       "      <th>473</th>\n",
       "      <td>Shah Ghouse Special Shawarma</td>\n",
       "      <td>4.3</td>\n",
       "      <td>4.1</td>\n",
       "      <td>156</td>\n",
       "      <td>0</td>\n",
       "      <td>Beverages</td>\n",
       "      <td>Charminar</td>\n",
       "      <td>Hyderabad</td>\n",
       "      <td>Special Chicken Rumali Shawarma with Pina Cola...</td>\n",
       "      <td>MUST TRY</td>\n",
       "      <td>0</td>\n",
       "      <td>310.0</td>\n",
       "    </tr>\n",
       "    <tr>\n",
       "      <th>483</th>\n",
       "      <td>Shah Ghouse Special Shawarma</td>\n",
       "      <td>4.3</td>\n",
       "      <td>4.1</td>\n",
       "      <td>156</td>\n",
       "      <td>0</td>\n",
       "      <td>Beverages</td>\n",
       "      <td>Charminar</td>\n",
       "      <td>Hyderabad</td>\n",
       "      <td>SG Special Sundae</td>\n",
       "      <td>CHEF'S SPECIAL</td>\n",
       "      <td>0</td>\n",
       "      <td>170.0</td>\n",
       "    </tr>\n",
       "    <tr>\n",
       "      <th>533</th>\n",
       "      <td>Shah Ghouse Special Shawarma</td>\n",
       "      <td>4.3</td>\n",
       "      <td>4.1</td>\n",
       "      <td>156</td>\n",
       "      <td>0</td>\n",
       "      <td>Beverages</td>\n",
       "      <td>Charminar</td>\n",
       "      <td>Hyderabad</td>\n",
       "      <td>Mixed Dry Fruit Falooda</td>\n",
       "      <td>BESTSELLER</td>\n",
       "      <td>0</td>\n",
       "      <td>160.0</td>\n",
       "    </tr>\n",
       "    <tr>\n",
       "      <th>550</th>\n",
       "      <td>Shah Ghouse Special Shawarma</td>\n",
       "      <td>4.3</td>\n",
       "      <td>4.1</td>\n",
       "      <td>156</td>\n",
       "      <td>0</td>\n",
       "      <td>Beverages</td>\n",
       "      <td>Charminar</td>\n",
       "      <td>Hyderabad</td>\n",
       "      <td>SG Special Sundae</td>\n",
       "      <td>CHEF'S SPECIAL</td>\n",
       "      <td>0</td>\n",
       "      <td>170.0</td>\n",
       "    </tr>\n",
       "    <tr>\n",
       "      <th>606</th>\n",
       "      <td>Shah Ghouse Special Shawarma</td>\n",
       "      <td>4.3</td>\n",
       "      <td>4.1</td>\n",
       "      <td>156</td>\n",
       "      <td>0</td>\n",
       "      <td>Beverages</td>\n",
       "      <td>Charminar</td>\n",
       "      <td>Hyderabad</td>\n",
       "      <td>SG Punch</td>\n",
       "      <td>CHEF'S SPECIAL</td>\n",
       "      <td>0</td>\n",
       "      <td>200.0</td>\n",
       "    </tr>\n",
       "    <tr>\n",
       "      <th>864</th>\n",
       "      <td>Burger King</td>\n",
       "      <td>4.1</td>\n",
       "      <td>4.1</td>\n",
       "      <td>253</td>\n",
       "      <td>0</td>\n",
       "      <td>Fast Food</td>\n",
       "      <td>The Next Galleria Mall</td>\n",
       "      <td>Hyderabad</td>\n",
       "      <td>2 Crispy Veg Double Patty + 1King Fries + 1Veg...</td>\n",
       "      <td>MUST TRY</td>\n",
       "      <td>0</td>\n",
       "      <td>358.0</td>\n",
       "    </tr>\n",
       "    <tr>\n",
       "      <th>1428</th>\n",
       "      <td>Italian Pizzeria</td>\n",
       "      <td>4.0</td>\n",
       "      <td>3.5</td>\n",
       "      <td>325</td>\n",
       "      <td>0</td>\n",
       "      <td>Shake</td>\n",
       "      <td>Mehdipatnam</td>\n",
       "      <td>Hyderabad</td>\n",
       "      <td>Veg Penne in Arrabiata Pasta</td>\n",
       "      <td>MUST TRY</td>\n",
       "      <td>0</td>\n",
       "      <td>190.0</td>\n",
       "    </tr>\n",
       "    <tr>\n",
       "      <th>1438</th>\n",
       "      <td>Italian Pizzeria</td>\n",
       "      <td>4.0</td>\n",
       "      <td>3.5</td>\n",
       "      <td>325</td>\n",
       "      <td>0</td>\n",
       "      <td>Shake</td>\n",
       "      <td>Mehdipatnam</td>\n",
       "      <td>Hyderabad</td>\n",
       "      <td>Veg Pasta Quattro Formaggi</td>\n",
       "      <td>MUST TRY</td>\n",
       "      <td>0</td>\n",
       "      <td>220.0</td>\n",
       "    </tr>\n",
       "  </tbody>\n",
       "</table>\n",
       "</div>"
      ],
      "text/plain": [
       "                   Restaurant Name  Dining Rating  Delivery Rating  \\\n",
       "37                      Doner King            3.9              4.2   \n",
       "167                      BrownBear            3.6              4.0   \n",
       "473   Shah Ghouse Special Shawarma            4.3              4.1   \n",
       "483   Shah Ghouse Special Shawarma            4.3              4.1   \n",
       "533   Shah Ghouse Special Shawarma            4.3              4.1   \n",
       "550   Shah Ghouse Special Shawarma            4.3              4.1   \n",
       "606   Shah Ghouse Special Shawarma            4.3              4.1   \n",
       "864                    Burger King            4.1              4.1   \n",
       "1428              Italian Pizzeria            4.0              3.5   \n",
       "1438              Italian Pizzeria            4.0              3.5   \n",
       "\n",
       "      Dining Votes  Delivery Votes   Cuisine               Place Name  \\\n",
       "37              39               0  Fast Food                Malakpet   \n",
       "167            239               0  Fast Food          Himayath Nagar   \n",
       "473            156               0  Beverages               Charminar   \n",
       "483            156               0  Beverages               Charminar   \n",
       "533            156               0  Beverages               Charminar   \n",
       "550            156               0  Beverages               Charminar   \n",
       "606            156               0  Beverages               Charminar   \n",
       "864            253               0  Fast Food  The Next Galleria Mall   \n",
       "1428           325               0      Shake             Mehdipatnam   \n",
       "1438           325               0      Shake             Mehdipatnam   \n",
       "\n",
       "            City                                          Item Name  \\\n",
       "37     Hyderabad                         Special Fish Tortilla Wrap   \n",
       "167    Hyderabad                                 Chocolate Tin Cake   \n",
       "473    Hyderabad  Special Chicken Rumali Shawarma with Pina Cola...   \n",
       "483    Hyderabad                                  SG Special Sundae   \n",
       "533    Hyderabad                            Mixed Dry Fruit Falooda   \n",
       "550    Hyderabad                                  SG Special Sundae   \n",
       "606    Hyderabad                                           SG Punch   \n",
       "864    Hyderabad  2 Crispy Veg Double Patty + 1King Fries + 1Veg...   \n",
       "1428   Hyderabad                       Veg Penne in Arrabiata Pasta   \n",
       "1438   Hyderabad                         Veg Pasta Quattro Formaggi   \n",
       "\n",
       "         Best Seller  Votes  Prices  \n",
       "37    CHEF'S SPECIAL      0   165.0  \n",
       "167       BESTSELLER      0   800.0  \n",
       "473         MUST TRY      0   310.0  \n",
       "483   CHEF'S SPECIAL      0   170.0  \n",
       "533       BESTSELLER      0   160.0  \n",
       "550   CHEF'S SPECIAL      0   170.0  \n",
       "606   CHEF'S SPECIAL      0   200.0  \n",
       "864         MUST TRY      0   358.0  \n",
       "1428        MUST TRY      0   190.0  \n",
       "1438        MUST TRY      0   220.0  "
      ]
     },
     "execution_count": 315,
     "metadata": {},
     "output_type": "execute_result"
    }
   ],
   "source": [
    "#Least popular Restaurants by Average Votes\n",
    "popular_restaurants = data.nlargest(10, \"Votes\")\n",
    "least_popular_restaurants = data.nsmallest(10, \"Votes\")\n",
    "\n",
    "\n",
    "print(\"Ortalama Oy Sayılarına Göre En Popüler Restorantlar:\")\n",
    "popular_restaurants\n",
    "\n",
    "print(\"\"\"\n",
    "\n",
    "\n",
    "\"\"\")\n",
    "\n",
    "print(\"Ortalama Oy Sayılarına Göre En Az Popüler Restoranlar:\")\n",
    "least_popular_restaurants"
   ]
  },
  {
   "cell_type": "markdown",
   "id": "823a750d",
   "metadata": {},
   "source": [
    "                    "
   ]
  },
  {
   "cell_type": "markdown",
   "id": "db095156",
   "metadata": {},
   "source": [
    "                    "
   ]
  },
  {
   "cell_type": "code",
   "execution_count": 316,
   "id": "de7443ef",
   "metadata": {},
   "outputs": [
    {
     "data": {
      "text/html": [
       "<div>\n",
       "<style scoped>\n",
       "    .dataframe tbody tr th:only-of-type {\n",
       "        vertical-align: middle;\n",
       "    }\n",
       "\n",
       "    .dataframe tbody tr th {\n",
       "        vertical-align: top;\n",
       "    }\n",
       "\n",
       "    .dataframe thead th {\n",
       "        text-align: right;\n",
       "    }\n",
       "</style>\n",
       "<table border=\"1\" class=\"dataframe\">\n",
       "  <thead>\n",
       "    <tr style=\"text-align: right;\">\n",
       "      <th></th>\n",
       "      <th>Restaurant Name</th>\n",
       "      <th>Dining Rating</th>\n",
       "      <th>Delivery Rating</th>\n",
       "    </tr>\n",
       "    <tr>\n",
       "      <th>City</th>\n",
       "      <th></th>\n",
       "      <th></th>\n",
       "      <th></th>\n",
       "    </tr>\n",
       "  </thead>\n",
       "  <tbody>\n",
       "    <tr>\n",
       "      <th>Ahmedabad</th>\n",
       "      <td>1823</td>\n",
       "      <td>3.808832</td>\n",
       "      <td>3.911465</td>\n",
       "    </tr>\n",
       "    <tr>\n",
       "      <th>Banaswadi</th>\n",
       "      <td>10</td>\n",
       "      <td>3.700000</td>\n",
       "      <td>3.800000</td>\n",
       "    </tr>\n",
       "    <tr>\n",
       "      <th>Bangalore</th>\n",
       "      <td>2271</td>\n",
       "      <td>3.807926</td>\n",
       "      <td>4.009203</td>\n",
       "    </tr>\n",
       "    <tr>\n",
       "      <th>Chennai</th>\n",
       "      <td>2360</td>\n",
       "      <td>3.889110</td>\n",
       "      <td>3.952203</td>\n",
       "    </tr>\n",
       "    <tr>\n",
       "      <th>Goa</th>\n",
       "      <td>157</td>\n",
       "      <td>4.328662</td>\n",
       "      <td>4.052229</td>\n",
       "    </tr>\n",
       "    <tr>\n",
       "      <th>Hyderabad</th>\n",
       "      <td>2408</td>\n",
       "      <td>3.870432</td>\n",
       "      <td>4.003945</td>\n",
       "    </tr>\n",
       "    <tr>\n",
       "      <th>Jaipur</th>\n",
       "      <td>2774</td>\n",
       "      <td>3.754254</td>\n",
       "      <td>4.001802</td>\n",
       "    </tr>\n",
       "    <tr>\n",
       "      <th>Kochi</th>\n",
       "      <td>1457</td>\n",
       "      <td>3.775704</td>\n",
       "      <td>3.876527</td>\n",
       "    </tr>\n",
       "    <tr>\n",
       "      <th>Kolkata</th>\n",
       "      <td>1614</td>\n",
       "      <td>3.872677</td>\n",
       "      <td>3.995415</td>\n",
       "    </tr>\n",
       "    <tr>\n",
       "      <th>Lucknow</th>\n",
       "      <td>1262</td>\n",
       "      <td>3.838193</td>\n",
       "      <td>3.950396</td>\n",
       "    </tr>\n",
       "    <tr>\n",
       "      <th>Magrath Road</th>\n",
       "      <td>22</td>\n",
       "      <td>3.500000</td>\n",
       "      <td>3.700000</td>\n",
       "    </tr>\n",
       "    <tr>\n",
       "      <th>Malleshwaram</th>\n",
       "      <td>23</td>\n",
       "      <td>4.000000</td>\n",
       "      <td>4.000000</td>\n",
       "    </tr>\n",
       "    <tr>\n",
       "      <th>Mumbai</th>\n",
       "      <td>1371</td>\n",
       "      <td>3.862582</td>\n",
       "      <td>3.988038</td>\n",
       "    </tr>\n",
       "    <tr>\n",
       "      <th>New Delhi</th>\n",
       "      <td>601</td>\n",
       "      <td>3.964393</td>\n",
       "      <td>3.956905</td>\n",
       "    </tr>\n",
       "    <tr>\n",
       "      <th>Pune</th>\n",
       "      <td>1227</td>\n",
       "      <td>3.662999</td>\n",
       "      <td>4.044662</td>\n",
       "    </tr>\n",
       "    <tr>\n",
       "      <th>Raipur</th>\n",
       "      <td>848</td>\n",
       "      <td>3.859434</td>\n",
       "      <td>3.918042</td>\n",
       "    </tr>\n",
       "  </tbody>\n",
       "</table>\n",
       "</div>"
      ],
      "text/plain": [
       "               Restaurant Name  Dining Rating  Delivery Rating\n",
       "City                                                          \n",
       " Ahmedabad                1823       3.808832         3.911465\n",
       " Banaswadi                  10       3.700000         3.800000\n",
       " Bangalore                2271       3.807926         4.009203\n",
       " Chennai                  2360       3.889110         3.952203\n",
       " Goa                       157       4.328662         4.052229\n",
       " Hyderabad                2408       3.870432         4.003945\n",
       " Jaipur                   2774       3.754254         4.001802\n",
       " Kochi                    1457       3.775704         3.876527\n",
       " Kolkata                  1614       3.872677         3.995415\n",
       " Lucknow                  1262       3.838193         3.950396\n",
       " Magrath Road               22       3.500000         3.700000\n",
       " Malleshwaram               23       4.000000         4.000000\n",
       " Mumbai                   1371       3.862582         3.988038\n",
       " New Delhi                 601       3.964393         3.956905\n",
       " Pune                     1227       3.662999         4.044662\n",
       " Raipur                    848       3.859434         3.918042"
      ]
     },
     "execution_count": 316,
     "metadata": {},
     "output_type": "execute_result"
    }
   ],
   "source": [
    "#Average Number of Restaurants and Average Ratings by Cities\n",
    "city_stats = data.groupby('City').agg({'Restaurant Name': 'count', 'Dining Rating': 'mean', 'Delivery Rating': 'mean'})\n",
    "\n",
    "city_stats\n",
    "\n"
   ]
  },
  {
   "cell_type": "markdown",
   "id": "b9590e11",
   "metadata": {},
   "source": [
    "                "
   ]
  },
  {
   "cell_type": "markdown",
   "id": "61efa232",
   "metadata": {},
   "source": [
    "                    "
   ]
  },
  {
   "cell_type": "code",
   "execution_count": 317,
   "id": "fff766e8",
   "metadata": {},
   "outputs": [
    {
     "name": "stdout",
     "output_type": "stream",
     "text": [
      "En Yüksek Ortalama Dining'e Sahip Şehir:\n",
      "\n"
     ]
    },
    {
     "data": {
      "text/html": [
       "<div>\n",
       "<style scoped>\n",
       "    .dataframe tbody tr th:only-of-type {\n",
       "        vertical-align: middle;\n",
       "    }\n",
       "\n",
       "    .dataframe tbody tr th {\n",
       "        vertical-align: top;\n",
       "    }\n",
       "\n",
       "    .dataframe thead th {\n",
       "        text-align: right;\n",
       "    }\n",
       "</style>\n",
       "<table border=\"1\" class=\"dataframe\">\n",
       "  <thead>\n",
       "    <tr style=\"text-align: right;\">\n",
       "      <th></th>\n",
       "      <th>Restaurant Name</th>\n",
       "      <th>Dining Rating</th>\n",
       "      <th>Delivery Rating</th>\n",
       "    </tr>\n",
       "    <tr>\n",
       "      <th>City</th>\n",
       "      <th></th>\n",
       "      <th></th>\n",
       "      <th></th>\n",
       "    </tr>\n",
       "  </thead>\n",
       "  <tbody>\n",
       "    <tr>\n",
       "      <th>Goa</th>\n",
       "      <td>157</td>\n",
       "      <td>4.328662</td>\n",
       "      <td>4.052229</td>\n",
       "    </tr>\n",
       "  </tbody>\n",
       "</table>\n",
       "</div>"
      ],
      "text/plain": [
       "      Restaurant Name  Dining Rating  Delivery Rating\n",
       "City                                                 \n",
       " Goa              157       4.328662         4.052229"
      ]
     },
     "execution_count": 317,
     "metadata": {},
     "output_type": "execute_result"
    }
   ],
   "source": [
    "#Which City Has the Restaurant with the Highest Average Dining Rating*\n",
    "highest_dining_rating_city = city_stats[city_stats[\"Dining Rating\"] == city_stats[\"Dining Rating\"].max()]\n",
    "print(\"\"\"En Yüksek Ortalama Dining'e Sahip Şehir:\n",
    "\"\"\")\n",
    "\n",
    "highest_dining_rating_city"
   ]
  },
  {
   "cell_type": "markdown",
   "id": "7acb9d24",
   "metadata": {},
   "source": [
    "                    "
   ]
  },
  {
   "cell_type": "markdown",
   "id": "dfa2caf3",
   "metadata": {},
   "source": [
    "                    "
   ]
  },
  {
   "cell_type": "code",
   "execution_count": 318,
   "id": "f4478538",
   "metadata": {
    "scrolled": true
   },
   "outputs": [
    {
     "name": "stdout",
     "output_type": "stream",
     "text": [
      " En Popüler Mutfak Türlerinin  En Çok Tercih Edilen Ürünleri:\n",
      "\n",
      "Cuisine \n",
      "American                          Margherita Pizza\n",
      "Andhra                         Paneer Sholay Kebab\n",
      "Awadhi                              Chicken Masala\n",
      "BBQ                                     Chicken 65\n",
      "Bakery                            Pineapple Pastry\n",
      "Beverages                     Paneer Butter Masala\n",
      "Biryani                            Chicken Biryani\n",
      "Burger                                  Oreo Shake\n",
      "Chinese                       Paneer Butter Masala\n",
      "Coffee              Nutty Taro Bubble Tea [330 ml]\n",
      "Continental                      Veg Cheese Burger\n",
      "Desserts                      Paneer Butter Masala\n",
      "Fast Food                         Margherita Pizza\n",
      "Gujarati                          Rajasthani Thali\n",
      "Healthy Food     Curd Rice + Chicken Pepper Masala\n",
      "Hyderabadi                             Egg Biryani\n",
      "Ice Cream                     Paneer Butter Masala\n",
      "Italian                     Paneer Tikka Rice Bowl\n",
      "Juices                               Mosambi Juice\n",
      "Kathiyawadi                             Sev Tomato\n",
      "Kebab                           Chicken Fried Rice\n",
      "Kerala                                 Kozhuva Fry\n",
      "Lucknowi               Chicken Tikka Matka Biryani\n",
      "Maharashtrian                    Cheese Masala Pav\n",
      "Mandi                                 Mutton Mandi\n",
      "Mexican                     Chicken Kheema Lasagne\n",
      "Mithai                             Kesariya Imerti\n",
      "Momos                               Veg Fried Rice\n",
      "Mughlai                       Paneer Butter Masala\n",
      "North Indian                    Chicken Fried Rice\n",
      "Pasta                             Margherita Pizza\n",
      "Pizza                               Veg Fried Rice\n",
      "Rajasthani                            Masala Chaas\n",
      "Rolls                                 Paneer Tikka\n",
      "Salad                                  Greek Salad\n",
      "Sandwich                          Margherita Pizza\n",
      "Seafood                         Chicken Fried Rice\n",
      "Shake                          Chocolate Milkshake\n",
      "Shawarma                   Exotic Special Shawarma\n",
      "Sichuan                             Veg Fried Rice\n",
      "South Indian                        Veg Fried Rice\n",
      "Street Food                          Cheese Burger\n",
      "Tea                                          2 Tea\n",
      "Thai                                Veg Manchurian\n",
      "Tibetan             Tibetian Chicken Steamed Momos\n",
      "Turkish                              Cheese Kunafa\n",
      "Vietnamese             Vietnamese Caramelized Pork\n",
      "Wraps                           Naked Chicken Taco\n",
      "Name: Item Name, dtype: object\n"
     ]
    }
   ],
   "source": [
    "#The Most Preferred Products of the Most Popular Kitchen Types\n",
    "popular_cuisine_items = zomato_data.groupby(\"Cuisine \")[\"Item Name\"].apply(lambda x: x.value_counts().idxmax())\n",
    "print(\"\"\" En Popüler Mutfak Türlerinin  En Çok Tercih Edilen Ürünleri:\n",
    "\"\"\")\n",
    "print(popular_cuisine_items)"
   ]
  },
  {
   "cell_type": "markdown",
   "id": "7cb07097",
   "metadata": {},
   "source": [
    "            "
   ]
  },
  {
   "cell_type": "markdown",
   "id": "473b8cf6",
   "metadata": {},
   "source": [
    "                "
   ]
  },
  {
   "cell_type": "code",
   "execution_count": 320,
   "id": "5fed74cf",
   "metadata": {},
   "outputs": [
    {
     "name": "stdout",
     "output_type": "stream",
     "text": [
      "Best Seller Ürünlerin Ortalama Fiyatı:\n"
     ]
    },
    {
     "data": {
      "text/plain": [
       "241.5906620762712"
      ]
     },
     "execution_count": 320,
     "metadata": {},
     "output_type": "execute_result"
    }
   ],
   "source": [
    "#Average Price of Best Seller products\n",
    "best_Seller_avg_Prices = zomato_data[zomato_data[\"Best Seller\"] == \"BESTSELLER\"][\"Prices\"].mean()\n",
    "print(\"Best Seller Ürünlerin Ortalama Fiyatı:\")\n",
    "best_Seller_avg_Prices"
   ]
  },
  {
   "cell_type": "markdown",
   "id": "e3b6c364",
   "metadata": {},
   "source": [
    "                "
   ]
  },
  {
   "cell_type": "markdown",
   "id": "90b48de2",
   "metadata": {},
   "source": [
    "                        "
   ]
  },
  {
   "cell_type": "code",
   "execution_count": 321,
   "id": "33beaf9f",
   "metadata": {
    "scrolled": true
   },
   "outputs": [
    {
     "name": "stdout",
     "output_type": "stream",
     "text": [
      "Best Seller Ürünlerin Ortalama Fiyatı:\n"
     ]
    },
    {
     "data": {
      "text/plain": [
       "City\n",
       " Ahmedabad       233.348233\n",
       " Banaswadi       219.857143\n",
       " Bangalore       246.020962\n",
       " Chennai         281.536778\n",
       " Goa             250.428571\n",
       " Hyderabad       246.481603\n",
       " Jaipur          220.300534\n",
       " Kochi           236.455829\n",
       " Kolkata         247.883972\n",
       " Lucknow         216.707106\n",
       " Magrath Road    212.630833\n",
       " Malleshwaram    229.166667\n",
       " Mumbai          286.760766\n",
       " New Delhi       227.250740\n",
       " Pune            223.006191\n",
       " Raipur          187.932581\n",
       " Ulsoor          792.333333\n",
       "Name: Prices, dtype: float64"
      ]
     },
     "execution_count": 321,
     "metadata": {},
     "output_type": "execute_result"
    }
   ],
   "source": [
    "#Average Price of Best Seller Products by Cities\n",
    "best_Seller_avg_Prices = zomato_data[zomato_data[\"Best Seller\"] == \"BESTSELLER\"].groupby(\"City\")[\"Prices\"].mean()\n",
    "print(\"Best Seller Ürünlerin Ortalama Fiyatı:\")\n",
    "best_Seller_avg_Prices"
   ]
  },
  {
   "cell_type": "markdown",
   "id": "61171ca6",
   "metadata": {},
   "source": [
    "                "
   ]
  },
  {
   "cell_type": "markdown",
   "id": "262d5237",
   "metadata": {},
   "source": [
    "                    "
   ]
  },
  {
   "cell_type": "code",
   "execution_count": 322,
   "id": "0efa6d0f",
   "metadata": {
    "scrolled": true
   },
   "outputs": [
    {
     "name": "stdout",
     "output_type": "stream",
     "text": [
      "En iyi dereceli restoranların Best Seller ürünleri:\n",
      "106306    Orange Pistachio (Medium Fat) Ice Cream\n",
      "106307                          Chickoo Ice Cream\n",
      "106308                     Butterscotch Ice Cream\n",
      "106316               Mango (Medium Fat) Ice Cream\n",
      "106320                     Butterscotch Ice Cream\n",
      "106322    Orange Pistachio (Medium Fat) Ice Cream\n",
      "106323                   Tender Coconut Ice Cream\n",
      "106324                   Roasted Almond Ice Cream\n",
      "106325                        Chocobite Ice Cream\n",
      "106327                    Coffee Walnut Ice Cream\n",
      "106330                           Anjeer Ice Cream\n",
      "106331                          Chickoo Ice Cream\n",
      "106332                            Malai Ice Cream\n",
      "106333                      Kesar Pista Ice Cream\n",
      "Name: Item Name, dtype: object\n",
      "En kötü dereceli restoranların Best Seller ürünleri:\n",
      "66634                                   Sweet Corns Pizza\n",
      "66635                                    Margherita Pizza\n",
      "66636                                        Onions Pizza\n",
      "66637                                    Farm Villa Pizza\n",
      "66638                     Americano White Sauce Pasta Veg\n",
      "66639                                Garden Delight Pizza\n",
      "66640                                      Cheezy-7 Pizza\n",
      "66641                           Smoke Chilli Macaroni Veg\n",
      "66642                                 Cheesy Garlic Bread\n",
      "66643                                 Garlic Bread Sticks\n",
      "66644                    Paneer Tikka Butter Masala Pizza\n",
      "66647                Capsicum, Paneer & Red Paprika Pizza\n",
      "66649                               English Retreat Pizza\n",
      "66650                                  Burn To Hell Pizza\n",
      "66652                      Double Cheese Margherita Pizza\n",
      "66702                                    Margherita Pizza\n",
      "66707                      Double Cheese Margherita Pizza\n",
      "66708                                Garden Delight Pizza\n",
      "66713                                  Burn To Hell Pizza\n",
      "66714                                      Cheezy-7 Pizza\n",
      "66716                    Paneer Tikka Butter Masala Pizza\n",
      "66721                               English Retreat Pizza\n",
      "66733                                    Farm Villa Pizza\n",
      "66742                                        Onions Pizza\n",
      "66744                                   Sweet Corns Pizza\n",
      "66754                Capsicum, Paneer & Red Paprika Pizza\n",
      "66757                                 Cheesy Garlic Bread\n",
      "66760                                 Garlic Bread Sticks\n",
      "66763                     Americano White Sauce Pasta Veg\n",
      "66771                           Smoke Chilli Macaroni Veg\n",
      "79717                                     Farmhouse Pizza\n",
      "79718                          Indi Tandoori Paneer Pizza\n",
      "79720                                      Non Veg Loaded\n",
      "79721                        Classic Stuffed Garlic Bread\n",
      "79722    Paneer, Onion & Capsicum with Desi Makhani Sauce\n",
      "79723                                  Peppy Paneer Pizza\n",
      "79724                                     Farmhouse Pizza\n",
      "79725                                          Veg Loaded\n",
      "79726                                  Garlic Breadsticks\n",
      "79727                               Veggie Paradise Pizza\n",
      "79729                          Indi Tandoori Paneer Pizza\n",
      "79733                                     Choco Lava Cake\n",
      "79735                             Chicken Dominator Pizza\n",
      "79744                                    Margherita Pizza\n",
      "79747                            Indi Chicken Tikka Pizza\n",
      "79779                                    Margherita Pizza\n",
      "79783                                     Farmhouse Pizza\n",
      "79784                              Veg Extravaganza Pizza\n",
      "79785                          Indi Tandoori Paneer Pizza\n",
      "79793                                  Peppy Paneer Pizza\n",
      "79796                               Veggie Paradise Pizza\n",
      "79812                             Chicken Dominator Pizza\n",
      "79826                            Indi Chicken Tikka Pizza\n",
      "79844                                  Garlic Breadsticks\n",
      "79845                        Classic Stuffed Garlic Bread\n",
      "79855    Paneer, Onion & Capsicum with Desi Makhani Sauce\n",
      "79856                                      Non Veg Loaded\n",
      "79857                                          Veg Loaded\n",
      "79882                                     Choco Lava Cake\n",
      "Name: Item Name, dtype: object\n"
     ]
    }
   ],
   "source": [
    "#Best Seller products of the best and worst rated restaurants\n",
    "best_rated_best_sellers = best_rated_restaurants['Item Name'][best_rated_restaurants['Best Seller'] == 'BESTSELLER']\n",
    "worst_rated_best_sellers = worst_rated_restaurants['Item Name'][worst_rated_restaurants['Best Seller'] == 'BESTSELLER']\n",
    "print(\"En iyi dereceli restoranların Best Seller ürünleri:\")\n",
    "print(best_rated_best_sellers)\n",
    "print(\"En kötü dereceli restoranların Best Seller ürünleri:\")\n",
    "print(worst_rated_best_sellers)\n"
   ]
  },
  {
   "cell_type": "markdown",
   "id": "0d734d5f",
   "metadata": {},
   "source": [
    "            "
   ]
  },
  {
   "cell_type": "markdown",
   "id": "48fc4022",
   "metadata": {},
   "source": [
    "                "
   ]
  },
  {
   "cell_type": "markdown",
   "id": "60ead3ef",
   "metadata": {},
   "source": [
    "# Price and Vote Relationship"
   ]
  },
  {
   "cell_type": "code",
   "execution_count": 194,
   "id": "8c8a78e2",
   "metadata": {},
   "outputs": [
    {
     "name": "stdout",
     "output_type": "stream",
     "text": [
      "Fiyat ve oy sayısı arasındaki korelasyon: -0.06704006464732878\n"
     ]
    }
   ],
   "source": [
    "correlation = data['Prices'].corr(data['Votes'])\n",
    "print(\"Fiyat ve oy sayısı arasındaki korelasyon:\", correlation)\n"
   ]
  },
  {
   "cell_type": "markdown",
   "id": "e51eee39",
   "metadata": {},
   "source": [
    "                "
   ]
  },
  {
   "cell_type": "markdown",
   "id": "d295821b",
   "metadata": {},
   "source": [
    "                "
   ]
  },
  {
   "cell_type": "code",
   "execution_count": 323,
   "id": "70c74387",
   "metadata": {},
   "outputs": [
    {
     "name": "stdout",
     "output_type": "stream",
     "text": [
      "Ortalama Fiyat: 241.3783985540649\n",
      "Medyan Fiyat: 208.57\n",
      "En Yüksek Oy Sayısı: 9750\n",
      "En Düşük Oy Sayısı: 0\n"
     ]
    }
   ],
   "source": [
    "#Statistics of Price and Vote Numbers\n",
    "average_price = zomato_data['Prices'].mean()\n",
    "median_price = zomato_data['Prices'].median()\n",
    "max_votes = zomato_data['Votes'].max()\n",
    "min_votes = zomato_data['Votes'].min()\n",
    "print(\"Ortalama Fiyat:\", average_price)\n",
    "print(\"Medyan Fiyat:\", median_price)\n",
    "print(\"En Yüksek Oy Sayısı:\", max_votes)\n",
    "print(\"En Düşük Oy Sayısı:\", min_votes)\n"
   ]
  },
  {
   "cell_type": "markdown",
   "id": "ff149430",
   "metadata": {},
   "source": [
    "                            "
   ]
  },
  {
   "cell_type": "markdown",
   "id": "a942bcf6",
   "metadata": {},
   "source": [
    "                "
   ]
  },
  {
   "cell_type": "code",
   "execution_count": 324,
   "id": "b7e4e5b4",
   "metadata": {
    "scrolled": true
   },
   "outputs": [
    {
     "name": "stdout",
     "output_type": "stream",
     "text": [
      "Fiyat aralıklarına göre ortalama oy sayıları:\n",
      "Price Range\n",
      "(0.0, 50.0]       58.060434\n",
      "(50.0, 100.0]     30.357717\n",
      "(100.0, 150.0]    28.332992\n",
      "(150.0, 200.0]    30.880236\n",
      "(200.0, inf]      17.108829\n",
      "Name: Votes, dtype: float64\n"
     ]
    }
   ],
   "source": [
    "#Number of Votes by Price Ranges\n",
    "price_bins = [0, 50, 100, 150, 200, float('inf')]\n",
    "zomato_data['Price Range'] = pd.cut(zomato_data['Prices'], bins=price_bins)\n",
    "average_votes_by_price_range = zomato_data.groupby('Price Range')['Votes'].mean()\n",
    "print(\"Fiyat aralıklarına göre ortalama oy sayıları:\")\n",
    "print(average_votes_by_price_range)\n"
   ]
  },
  {
   "cell_type": "markdown",
   "id": "25ccb498",
   "metadata": {},
   "source": [
    "                "
   ]
  },
  {
   "cell_type": "markdown",
   "id": "37042053",
   "metadata": {},
   "source": [
    "                        "
   ]
  },
  {
   "cell_type": "code",
   "execution_count": 325,
   "id": "b0beedb8",
   "metadata": {
    "scrolled": true
   },
   "outputs": [
    {
     "name": "stdout",
     "output_type": "stream",
     "text": [
      "\n",
      "Farklı fiyat aralıklarındaki restoran sayıları:\n",
      "\n",
      "Price Range\n",
      "(0.0, 50.0]        5626\n",
      "(50.0, 100.0]     14299\n",
      "(100.0, 150.0]    20526\n",
      "(150.0, 200.0]    20649\n",
      "(200.0, inf]      62557\n",
      "Name: Restaurant Name, dtype: int64\n"
     ]
    }
   ],
   "source": [
    "#Number of Restaurants in Different Price Ranges\n",
    "restaurant_counts_by_price_range = zomato_data.groupby('Price Range')['Restaurant Name'].count()\n",
    "print(\"\"\"\n",
    "Farklı fiyat aralıklarındaki restoran sayıları:\n",
    "\"\"\")\n",
    "print(restaurant_counts_by_price_range)\n"
   ]
  },
  {
   "cell_type": "markdown",
   "id": "3a0ca5f6",
   "metadata": {},
   "source": [
    "                "
   ]
  },
  {
   "cell_type": "markdown",
   "id": "979753ab",
   "metadata": {},
   "source": [
    "                    "
   ]
  },
  {
   "cell_type": "code",
   "execution_count": 326,
   "id": "1768e569",
   "metadata": {
    "scrolled": false
   },
   "outputs": [
    {
     "name": "stdout",
     "output_type": "stream",
     "text": [
      "Farklı konumlardaki restoran sayıları:\n",
      " Hyderabad       15613\n",
      " Jaipur          14438\n",
      " Mumbai          13535\n",
      " Chennai         13100\n",
      " Bangalore       12040\n",
      " Ahmedabad       10178\n",
      " Kolkata          8662\n",
      " Pune             8067\n",
      " Kochi            7759\n",
      " Raipur           7700\n",
      " Lucknow          6455\n",
      " New Delhi        3490\n",
      " Goa              2360\n",
      " Banaswadi          97\n",
      " Ulsoor             66\n",
      " Magrath Road       54\n",
      " Malleshwaram       43\n",
      "Name: City, dtype: int64\n"
     ]
    }
   ],
   "source": [
    "#Number of Restaurants in Different Locations\n",
    "location_counts = zomato_data['City'].value_counts()\n",
    "print(\"Farklı konumlardaki restoran sayıları:\")\n",
    "print(location_counts)\n"
   ]
  },
  {
   "cell_type": "markdown",
   "id": "3493797e",
   "metadata": {},
   "source": [
    "                    "
   ]
  },
  {
   "cell_type": "markdown",
   "id": "c2a73035",
   "metadata": {},
   "source": [
    "                    "
   ]
  },
  {
   "cell_type": "markdown",
   "id": "30cebfe8",
   "metadata": {},
   "source": [
    "NOTE : We have made certain analyzes. If you want to elaborate further, you can do it with the data you have."
   ]
  },
  {
   "cell_type": "markdown",
   "id": "d951cae8",
   "metadata": {},
   "source": [
    "# Data Visualization"
   ]
  },
  {
   "cell_type": "raw",
   "id": "7f2d0d7e",
   "metadata": {},
   "source": [
    "We import the libraries that we will use in data visualization."
   ]
  },
  {
   "cell_type": "code",
   "execution_count": 310,
   "id": "91689056",
   "metadata": {},
   "outputs": [],
   "source": [
    "import matplotlib.pyplot as plt\n",
    "import seaborn as sns\n",
    "\n",
    "# Matplotlib grafiğini görüntülemek için gerekli olan komut\n",
    "%matplotlib inline\n",
    "\n",
    "# Seaborn temasını ayarlamak için\n",
    "sns.set(style=\"whitegrid\")\n"
   ]
  },
  {
   "cell_type": "markdown",
   "id": "0ea27c09",
   "metadata": {},
   "source": [
    "                "
   ]
  },
  {
   "cell_type": "markdown",
   "id": "cac8c415",
   "metadata": {},
   "source": [
    "                "
   ]
  },
  {
   "cell_type": "markdown",
   "id": "b8583244",
   "metadata": {},
   "source": [
    "Let's load the dataset and display the first few rows of the dataset"
   ]
  },
  {
   "cell_type": "code",
   "execution_count": 241,
   "id": "0c5a54f8",
   "metadata": {
    "scrolled": true
   },
   "outputs": [
    {
     "name": "stdout",
     "output_type": "stream",
     "text": [
      "  Restaurant Name  Dining Rating  Delivery Rating  Dining Votes  \\\n",
      "0      Doner King            3.9              4.2            39   \n",
      "1      Doner King            3.9              4.2            39   \n",
      "2      Doner King            3.9              4.2            39   \n",
      "3      Doner King            3.9              4.2            39   \n",
      "4      Doner King            3.9              4.2            39   \n",
      "\n",
      "   Delivery Votes   Cuisine  Place Name        City                 Item Name  \\\n",
      "0               0  Fast Food   Malakpet   Hyderabad       Platter Kebab Combo   \n",
      "1               0  Fast Food   Malakpet   Hyderabad   Chicken Rumali Shawarma   \n",
      "2               0  Fast Food   Malakpet   Hyderabad    Chicken Tandoori Salad   \n",
      "3               0  Fast Food   Malakpet   Hyderabad         Chicken BBQ Salad   \n",
      "4               0  Fast Food   Malakpet   Hyderabad  Special Doner Wrap Combo   \n",
      "\n",
      "  Best Seller  Votes  Prices Price Category  \n",
      "0  BESTSELLER     84   249.0     Bilinmiyor  \n",
      "1  BESTSELLER     45   129.0     Bilinmiyor  \n",
      "2         NaN     39   189.0     Bilinmiyor  \n",
      "3  BESTSELLER     43   189.0     Bilinmiyor  \n",
      "4    MUST TRY     31   205.0     Bilinmiyor  \n"
     ]
    }
   ],
   "source": [
    "import pandas as pd\n",
    "\n",
    "\n",
    "zomato_data = pd.read_csv('zomato_dataset.csv')\n",
    "\n",
    "# Veri setinin ilk birkaç satırını görüntüleme\n",
    "print(data.head())\n",
    "\n"
   ]
  },
  {
   "cell_type": "markdown",
   "id": "6fe8dd17",
   "metadata": {},
   "source": [
    "                "
   ]
  },
  {
   "cell_type": "markdown",
   "id": "96d3fb09",
   "metadata": {},
   "source": [
    "                    "
   ]
  },
  {
   "cell_type": "markdown",
   "id": "32878960",
   "metadata": {},
   "source": [
    "In this graph, each restaurant is represented by a point. We can examine the relationship between Dining Rating and Delivery Rating. The region where points cluster could indicate high evaluations. The graph helps us understand the relationship between variables and observe any outliers."
   ]
  },
  {
   "cell_type": "code",
   "execution_count": 256,
   "id": "2d3aaf2d",
   "metadata": {
    "scrolled": false
   },
   "outputs": [
    {
     "data": {
      "image/png": "[encoded data removed]",
      "text/plain": [
       "<Figure size 800x600 with 1 Axes>"
      ]
     },
     "metadata": {},
     "output_type": "display_data"
    }
   ],
   "source": [
    "import pandas as pd\n",
    "import matplotlib.pyplot as plt\n",
    "\n",
    "# \"zomato_dataset.csv\" dosyasını yükleyin veya verilerinizi yüklediğiniz değişkene atayın\n",
    "df = pd.read_csv(\"zomato_dataset.csv\")\n",
    "\n",
    "# Scatter plot'u oluşturun\n",
    "plt.figure(figsize=(8, 6))\n",
    "plt.scatter(df[\"Dining Rating\"], df[\"Delivery Rating\"], color='blue', alpha=0.5)\n",
    "plt.xlabel(\"Dining Rating\")\n",
    "plt.ylabel(\"  Delivery Rating\")\n",
    "plt.title(\"Scatter Plot: Dining Rating vs. Delivery Rating\")\n",
    "plt.grid(True)\n",
    "plt.tight_layout()\n",
    "\n",
    "# Grafiği gösterin\n",
    "plt.show()\n"
   ]
  },
  {
   "cell_type": "markdown",
   "id": "36af537d",
   "metadata": {},
   "source": [
    "                    "
   ]
  },
  {
   "cell_type": "markdown",
   "id": "f0729189",
   "metadata": {},
   "source": [
    "                                        "
   ]
  },
  {
   "cell_type": "markdown",
   "id": "3fdd8851",
   "metadata": {},
   "source": [
    "                                "
   ]
  },
  {
   "cell_type": "markdown",
   "id": "c13a2a65",
   "metadata": {},
   "source": [
    "This pie chart displays the most popular cuisine types among restaurants."
   ]
  },
  {
   "cell_type": "code",
   "execution_count": 263,
   "id": "77cf3320",
   "metadata": {
    "scrolled": true
   },
   "outputs": [
    {
     "data": {
      "image/png": "[encoded data removed]",
      "text/plain": [
       "<Figure size 1000x800 with 1 Axes>"
      ]
     },
     "metadata": {},
     "output_type": "display_data"
    }
   ],
   "source": [
    "import pandas as pd\n",
    "import seaborn as sns\n",
    "import matplotlib.pyplot as plt\n",
    "\n",
    "df = pd.read_csv(\"zomato_dataset.csv\")\n",
    "\n",
    "# Calculate the number of restaurants represented by each cuisine type by grouping the cuisine genres.\n",
    "cuisine_counts = df[\"Cuisine \"].value_counts()\n",
    "\n",
    "# Create a pie chart.\n",
    "plt.figure(figsize=(10, 8))\n",
    "sns.set(style=\"whitegrid\")\n",
    "sns.barplot(x=cuisine_counts.index, y=cuisine_counts.values)\n",
    "plt.xlabel(\"Cuisine Types\")\n",
    "plt.ylabel(\"Number of Restaurants\")\n",
    "plt.title(\"Most Popular Cuisine Types\")\n",
    "plt.xticks(rotation=90)\n",
    "plt.tight_layout()\n",
    "\n",
    "# Display the chart.\n",
    "plt.show()\n"
   ]
  },
  {
   "cell_type": "markdown",
   "id": "142ff322",
   "metadata": {},
   "source": [
    "                "
   ]
  },
  {
   "cell_type": "markdown",
   "id": "b3f2c0ec",
   "metadata": {},
   "source": [
    "                        "
   ]
  },
  {
   "cell_type": "markdown",
   "id": "a490895a",
   "metadata": {},
   "source": [
    "                            "
   ]
  },
  {
   "cell_type": "markdown",
   "id": "813f8832",
   "metadata": {},
   "source": [
    "This graph visually represents the number of restaurants in different cities."
   ]
  },
  {
   "cell_type": "code",
   "execution_count": 327,
   "id": "1bfc5d80",
   "metadata": {},
   "outputs": [
    {
     "data": {
      "image/png": "[encoded data removed]",
      "text/plain": [
       "<Figure size 1200x600 with 1 Axes>"
      ]
     },
     "metadata": {},
     "output_type": "display_data"
    }
   ],
   "source": [
    "import pandas as pd\n",
    "import matplotlib.pyplot as plt\n",
    "\n",
    "\n",
    "df = pd.read_csv(\"zomato_dataset.csv\")\n",
    "\n",
    "# Calculate the number of restaurants in each city.\n",
    "city_restaurant_counts = df[\"City\"].value_counts()\n",
    "\n",
    "# Create a bar graph.\n",
    "plt.figure(figsize=(12, 6))\n",
    "city_restaurant_counts.plot(kind='bar', color='skyblue')\n",
    "plt.xlabel(\"City\")\n",
    "plt.ylabel(\"Number of Restaurants\")\n",
    "plt.title(\"Number of Restaurants in Each City\")\n",
    "plt.xticks(rotation=45)\n",
    "plt.tight_layout()\n",
    "\n",
    "# Display the chart.\n",
    "plt.show()\n"
   ]
  },
  {
   "cell_type": "markdown",
   "id": "39a292e5",
   "metadata": {},
   "source": [
    "                "
   ]
  },
  {
   "cell_type": "markdown",
   "id": "e7dbf982",
   "metadata": {},
   "source": [
    "                "
   ]
  },
  {
   "cell_type": "markdown",
   "id": "5261a8c1",
   "metadata": {},
   "source": [
    "                "
   ]
  },
  {
   "cell_type": "markdown",
   "id": "743fd091",
   "metadata": {},
   "source": [
    "This pie chart visually reflects the most preferred dishes in restaurant menus."
   ]
  },
  {
   "cell_type": "code",
   "execution_count": 329,
   "id": "5314d47c",
   "metadata": {
    "scrolled": true
   },
   "outputs": [
    {
     "data": {
      "image/png": "[encoded data removed]",
      "text/plain": [
       "<Figure size 1000x600 with 1 Axes>"
      ]
     },
     "metadata": {},
     "output_type": "display_data"
    }
   ],
   "source": [
    "import pandas as pd\n",
    "import matplotlib.pyplot as plt\n",
    "\n",
    "\n",
    "#Calculate how frequently each popular dish is preferred by grouping the most preferred dishes.\n",
    "popular_dishes = df[\"Item Name\"].value_counts().head(10)\n",
    "\n",
    "# Create a pie chart.\n",
    "plt.figure(figsize=(10, 6))\n",
    "popular_dishes.plot(kind='pie', autopct='%1.1f%%', startangle=140)\n",
    "plt.title(\"Most Popular Dishes\")\n",
    "plt.tight_layout()\n",
    "\n",
    "\n",
    "plt.show()\n"
   ]
  },
  {
   "cell_type": "markdown",
   "id": "cf686cbf",
   "metadata": {},
   "source": [
    "                    "
   ]
  },
  {
   "cell_type": "markdown",
   "id": "4b33d5fe",
   "metadata": {},
   "source": [
    "                        "
   ]
  },
  {
   "cell_type": "markdown",
   "id": "4bbc7626",
   "metadata": {},
   "source": [
    "                         "
   ]
  },
  {
   "cell_type": "markdown",
   "id": "0e80e5e3",
   "metadata": {},
   "source": [
    "                    "
   ]
  },
  {
   "cell_type": "markdown",
   "id": "0ac0b69e",
   "metadata": {},
   "source": [
    "This bar graph visually compares the average Dining Rating and Delivery Rating values of restaurants in each city."
   ]
  },
  {
   "cell_type": "code",
   "execution_count": 330,
   "id": "79332785",
   "metadata": {
    "scrolled": false
   },
   "outputs": [
    {
     "data": {
      "text/plain": [
       "<Figure size 2000x1000 with 0 Axes>"
      ]
     },
     "metadata": {},
     "output_type": "display_data"
    },
    {
     "data": {
      "image/png": "[encoded data removed]",
      "text/plain": [
       "<Figure size 640x480 with 1 Axes>"
      ]
     },
     "metadata": {},
     "output_type": "display_data"
    }
   ],
   "source": [
    "import pandas as pd\n",
    "import matplotlib.pyplot as plt\n",
    "\n",
    "\n",
    "# Calculate the average Dining Rating and Delivery Rating values of restaurants in each city.\n",
    "city_avg_ratings = df.groupby(\"City\")[[\"Dining Rating\", \"Delivery Rating\"]].mean()\n",
    "\n",
    "# Create a bar graph.\n",
    "plt.figure(figsize=(20, 10))\n",
    "city_avg_ratings.plot(kind='bar', color=['skyblue', 'lightgreen'])\n",
    "plt.xlabel(\"City\")\n",
    "plt.ylabel(\"Average Rating\")\n",
    "plt.title(\"Average Ratings by City\")\n",
    "plt.xticks(rotation=85)\n",
    "plt.legend([\"Dining Rating\", \"Delivery Rating\"])\n",
    "plt.tight_layout()\n",
    "\n",
    "\n",
    "plt.show()\n"
   ]
  },
  {
   "cell_type": "markdown",
   "id": "2b8168a5",
   "metadata": {},
   "source": [
    "                        "
   ]
  },
  {
   "cell_type": "markdown",
   "id": "50c2f4ff",
   "metadata": {},
   "source": [
    "                            "
   ]
  },
  {
   "cell_type": "markdown",
   "id": "354237be",
   "metadata": {},
   "source": [
    "                            "
   ]
  },
  {
   "cell_type": "markdown",
   "id": "db727af8",
   "metadata": {},
   "source": [
    "                            "
   ]
  },
  {
   "cell_type": "markdown",
   "id": "4199d3d5",
   "metadata": {},
   "source": [
    "This bar graph visually represents the 20 most frequently preferred items in the menus of different restaurants."
   ]
  },
  {
   "cell_type": "code",
   "execution_count": 338,
   "id": "608e78ca",
   "metadata": {
    "scrolled": false
   },
   "outputs": [
    {
     "data": {
      "image/png": "[encoded data removed]",
      "text/plain": [
       "<Figure size 1200x600 with 1 Axes>"
      ]
     },
     "metadata": {},
     "output_type": "display_data"
    }
   ],
   "source": [
    "import pandas as pd\n",
    "import matplotlib.pyplot as plt\n",
    "\n",
    "\n",
    "# Calculate by grouping the Item Name values of the restaurants.\n",
    "restaurant_items = df.groupby(\"Restaurant Name\")[\"Item Name\"].apply(list)\n",
    "\n",
    "# Convert all Item Name values into a list.\n",
    "all_items = restaurant_items.tolist()\n",
    "all_items = [item for sublist in all_items for item in sublist]\n",
    "\n",
    "# Create a DataFrame by calculating the counts of Item Name values.\n",
    "item_counts = pd.Series(all_items).value_counts()\n",
    "\n",
    "# Select only the top 20 most common Item Names.\n",
    "top_items = item_counts.head(20)\n",
    "\n",
    "#Create a bar graph.\n",
    "plt.figure(figsize=(12, 6))\n",
    "top_items.plot(kind='bar', color='purple')\n",
    "plt.xlabel(\"Item Name\")\n",
    "plt.ylabel(\"Number of Occurrences\")\n",
    "plt.title(\"Top 20 Items in Restaurants\")\n",
    "plt.xticks(rotation=45)\n",
    "plt.tight_layout()\n",
    "\n",
    "\n",
    "plt.show()\n"
   ]
  },
  {
   "cell_type": "markdown",
   "id": "b38abe49",
   "metadata": {},
   "source": [
    "Let's verify if we have created the table correctly?"
   ]
  },
  {
   "cell_type": "code",
   "execution_count": 291,
   "id": "3a9aa88c",
   "metadata": {},
   "outputs": [
    {
     "name": "stdout",
     "output_type": "stream",
     "text": [
      "veg fried rice ürünü 322 kere tercih edilmiştir.\n"
     ]
    }
   ],
   "source": [
    "import pandas as pd\n",
    "\n",
    "\n",
    "#Count how many times the item \"veg fried rice\" has been preferred.\n",
    "veg_fried_rice_count = df[\"Item Name\"].value_counts()[\"Veg Fried Rice\"]\n",
    "\n",
    "print(\"veg fried rice ürünü\", veg_fried_rice_count, \"kere tercih edilmiştir.\")\n"
   ]
  },
  {
   "cell_type": "code",
   "execution_count": 339,
   "id": "a183cd5e",
   "metadata": {},
   "outputs": [
    {
     "name": "stdout",
     "output_type": "stream",
     "text": [
      "veg fried rice ürünü 319 kere tercih edilmiştir.\n"
     ]
    }
   ],
   "source": [
    "import pandas as pd\n",
    "\n",
    "\n",
    "# Count how many times the item \"Paneer Butter Masala\" has been preferred.\n",
    "veg_fried_rice_count = df[\"Item Name\"].value_counts()[\"Paneer Butter Masala\"]\n",
    "\n",
    "print(\"veg fried rice ürünü\", veg_fried_rice_count, \"kere tercih edilmiştir.\")\n"
   ]
  },
  {
   "cell_type": "code",
   "execution_count": 294,
   "id": "3bf277a8",
   "metadata": {},
   "outputs": [
    {
     "name": "stdout",
     "output_type": "stream",
     "text": [
      "veg fried rice ürünü 278 kere tercih edilmiştir.\n"
     ]
    }
   ],
   "source": [
    "import pandas as pd\n",
    "\n",
    "\n",
    "#Count how many times the item \"Chicken Fried Rice\" has been preferred.\n",
    "veg_fried_rice_count = df[\"Item Name\"].value_counts()[\"Chicken Fried Rice\"]\n",
    "\n",
    "print(\"veg fried rice ürünü\", veg_fried_rice_count, \"kere tercih edilmiştir.\")\n"
   ]
  },
  {
   "cell_type": "markdown",
   "id": "a4974ccc",
   "metadata": {},
   "source": [
    "                    "
   ]
  },
  {
   "cell_type": "markdown",
   "id": "7a4be3a5",
   "metadata": {},
   "source": [
    "                        "
   ]
  },
  {
   "cell_type": "markdown",
   "id": "b1d60655",
   "metadata": {},
   "source": [
    "                    "
   ]
  }
 ],
 "metadata": {
  "kernelspec": {
   "display_name": "Python 3 (ipykernel)",
   "language": "python",
   "name": "python3"
  },
  "language_info": {
   "codemirror_mode": {
    "name": "ipython",
    "version": 3
   },
   "file_extension": ".py",
   "mimetype": "text/x-python",
   "name": "python",
   "nbconvert_exporter": "python",
   "pygments_lexer": "ipython3",
   "version": "3.10.9"
  }
 },
 "nbformat": 4,
 "nbformat_minor": 5
}
